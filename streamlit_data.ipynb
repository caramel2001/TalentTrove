{
 "cells": [
  {
   "cell_type": "code",
   "execution_count": null,
   "metadata": {},
   "outputs": [],
   "source": [
    "import pandas as pd\n",
    "from bs4 import BeautifulSoup\n",
    "import random"
   ]
  },
  {
   "cell_type": "markdown",
   "metadata": {},
   "source": [
    "## Application data\n",
    "\n",
    "- Example data from Simplily Dashboard"
   ]
  },
  {
   "cell_type": "code",
   "execution_count": null,
   "metadata": {},
   "outputs": [],
   "source": [
    "# read a json file\n",
    "df = pd.read_json('talenttrove/data/dummy_data/applications.json')\n",
    "dates = df['date_applied'].to_list()\n",
    "titles=[i['title'] for i in df['job_posting']]\n",
    "locations = [i['locations'][0]['value'] if isinstance(i['locations'],list) else i['locations'] for i in df['job_posting']]\n",
    "# [i['locations'][0]['value'] for i in df['job_posting']]\n",
    "company = [i['name'] for i in df['company']]\n",
    "logo = [i['logo'] for i in df['company']]\n",
    "pd.DataFrame(zip(dates,titles,locations,company,logo),columns=['date','title','location','company','logo']).to_csv('talenttrove/data/dummy_data/applications.csv',index=False)"
   ]
  },
  {
   "cell_type": "code",
   "execution_count": null,
   "metadata": {},
   "outputs": [],
   "source": [
    "data = pd.read_csv('talenttrove/data/dummy_data/applications.csv')"
   ]
  },
  {
   "cell_type": "code",
   "execution_count": null,
   "metadata": {},
   "outputs": [],
   "source": [
    "data['stage'] =[random.randint(1,4) for i in range(len(data))]"
   ]
  },
  {
   "cell_type": "code",
   "execution_count": null,
   "metadata": {},
   "outputs": [],
   "source": [
    "data.to_csv('talenttrove/data/dummy_data/applications.csv',index=False)"
   ]
  },
  {
   "cell_type": "code",
   "execution_count": null,
   "metadata": {},
   "outputs": [],
   "source": []
  }
 ],
 "metadata": {
  "kernelspec": {
   "display_name": "Python 3 (ipykernel)",
   "language": "python",
   "name": "python3"
  },
  "orig_nbformat": 4
 },
 "nbformat": 4,
 "nbformat_minor": 2
}
