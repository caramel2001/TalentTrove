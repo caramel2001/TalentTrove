{
  "cells": [
    {
      "cell_type": "code",
      "execution_count": 2,
      "metadata": {},
      "outputs": [],
      "source": [
        "import pandas as pd\n",
        "from sentence_transformers.losses import CosineSimilarityLoss\n",
        "\n",
        "from setfit import SetFitModel, SetFitTrainer, sample_dataset"
      ]
    },
    {
      "cell_type": "code",
      "execution_count": 2,
      "metadata": {},
      "outputs": [],
      "source": [
        "applied_data = pd.read_json(\"./train_data/Applied_data.json\")\n",
        "aptitude_data_1 = pd.read_json(\"./train_data/Aptitude.json\")\n",
        "aptitude_data_2 = pd.read_json(\"./train_data/Aptitude_2.json\")\n",
        "interview_1 = pd.read_json('./train_data/Interview.json')\n",
        "interview_2 = pd.read_json('./train_data/Interview_Next_Stage_2.json')\n",
        "oa_data = pd.read_json('./train_data/OA.json')\n",
        "offer_data_1 = pd.read_json('./train_data/Offer.json')\n",
        "offer_data_2 = pd.read_json('./train_data/Offer_2.json')\n",
        "rejected_2 = pd.read_json('./train_data/Rejected_2.json')\n",
        "\n",
        "\n",
        "\n",
        "applied_data['label'] = applied_data.apply(lambda x: 0,axis =1)\n",
        "oa_data['label'] = oa_data.apply(lambda x: 1,axis =1)\n",
        "aptitude_data_1['label'] = aptitude_data_1.apply(lambda x: 1,axis =1)\n",
        "aptitude_data_2['label'] = aptitude_data_2.apply(lambda x: 1,axis =1)\n",
        "interview_1['label'] = interview_1.apply(lambda x: 2,axis =1)\n",
        "interview_2['label'] = interview_2.apply(lambda x: 2,axis =1)\n",
        "offer_data_1['label'] = offer_data_1.apply(lambda x: 3,axis =1)\n",
        "offer_data_2['label'] = offer_data_2.apply(lambda x: 3,axis =1)\n",
        "# rejected['label'] = rejected.apply(lambda x: 4,axis =1)\n",
        "rejected_2['label'] = rejected_2.apply(lambda x: 4,axis =1)\n",
        "\n",
        "df_jobs = pd.concat([applied_data, aptitude_data_1, aptitude_data_2, interview_1, interview_2, oa_data, offer_data_1, offer_data_2,rejected_2])\n",
        "\n",
        "def remove_n(row):\n",
        "    text = row['body']\n",
        "    text = text.replace('\\n' ,\" \")\n",
        "    return text\n",
        "df_jobs['body'] = df_jobs.apply(lambda x: remove_n(x),axis=1)\n",
        "final_df = df_jobs.sample(frac=1).reset_index(drop=True)\n",
        "\n",
        "# def append_text(row):\n",
        "#     subj = row['subject']\n",
        "#     body = row['body']\n",
        "\n",
        "#     text = \"Subject: \" + subj + \" Body:\" + body \n",
        "#     return text\n",
        "\n",
        "# final_df['text'] = final_df.apply(lambda x: append_text(x),axis=1)\n",
        "final_df.to_csv(\"./train_data/job_stage_data.csv\",index=False)\n"
      ]
    },
    {
      "cell_type": "code",
      "execution_count": 3,
      "metadata": {
        "id": "3v2BOFV_2lie"
      },
      "outputs": [
        {
          "data": {
            "application/vnd.jupyter.widget-view+json": {
              "model_id": "32287567337b4eccb4ba1b0b4ebb8453",
              "version_major": 2,
              "version_minor": 0
            },
            "text/plain": [
              "Downloading data files:   0%|          | 0/1 [00:00<?, ?it/s]"
            ]
          },
          "metadata": {},
          "output_type": "display_data"
        },
        {
          "data": {
            "application/vnd.jupyter.widget-view+json": {
              "model_id": "e6c0eec021904112b407d6b179a9d4e8",
              "version_major": 2,
              "version_minor": 0
            },
            "text/plain": [
              "Extracting data files:   0%|          | 0/1 [00:00<?, ?it/s]"
            ]
          },
          "metadata": {},
          "output_type": "display_data"
        },
        {
          "data": {
            "application/vnd.jupyter.widget-view+json": {
              "model_id": "4866eb2530474a1ca2b441e0d3f2f5bd",
              "version_major": 2,
              "version_minor": 0
            },
            "text/plain": [
              "Generating train split: 0 examples [00:00, ? examples/s]"
            ]
          },
          "metadata": {},
          "output_type": "display_data"
        }
      ],
      "source": [
        "from datasets import load_dataset\n",
        "dataset = load_dataset(\"csv\", data_files=\"./train_data/job_stage_data.csv\")"
      ]
    },
    {
      "cell_type": "code",
      "execution_count": 4,
      "metadata": {
        "colab": {
          "base_uri": "https://localhost:8080/",
          "height": 1000
        },
        "id": "UBTNL6ia60F4",
        "outputId": "aed2f3f2-3dd7-4fee-fb1b-2bce36379332"
      },
      "outputs": [
        {
          "data": {
            "text/html": [
              "<div>\n",
              "<style scoped>\n",
              "    .dataframe tbody tr th:only-of-type {\n",
              "        vertical-align: middle;\n",
              "    }\n",
              "\n",
              "    .dataframe tbody tr th {\n",
              "        vertical-align: top;\n",
              "    }\n",
              "\n",
              "    .dataframe thead th {\n",
              "        text-align: right;\n",
              "    }\n",
              "</style>\n",
              "<table border=\"1\" class=\"dataframe\">\n",
              "  <thead>\n",
              "    <tr style=\"text-align: right;\">\n",
              "      <th></th>\n",
              "      <th>label</th>\n",
              "      <th>subject</th>\n",
              "      <th>body</th>\n",
              "    </tr>\n",
              "  </thead>\n",
              "  <tbody>\n",
              "    <tr>\n",
              "      <th>0</th>\n",
              "      <td>1</td>\n",
              "      <td>Next Steps: Sales Representative Position Asse...</td>\n",
              "      <td>Hi Lily Thompson,  Thank you for expressing in...</td>\n",
              "    </tr>\n",
              "    <tr>\n",
              "      <th>1</th>\n",
              "      <td>1</td>\n",
              "      <td>Take the Analytical Thinking Test for Financia...</td>\n",
              "      <td>Dear Daniel Wilson,  We appreciate your intere...</td>\n",
              "    </tr>\n",
              "    <tr>\n",
              "      <th>2</th>\n",
              "      <td>2</td>\n",
              "      <td>Next Steps: Final Interview for Data Analyst P...</td>\n",
              "      <td>Hello Jessica Brown,  Great news! You have suc...</td>\n",
              "    </tr>\n",
              "    <tr>\n",
              "      <th>3</th>\n",
              "      <td>2</td>\n",
              "      <td>Final Interview Invitation for Human Resources...</td>\n",
              "      <td>Dear Oliver Davis,  Congratulations! We are pl...</td>\n",
              "    </tr>\n",
              "    <tr>\n",
              "      <th>4</th>\n",
              "      <td>1</td>\n",
              "      <td>Next Steps: Cognitive Ability Test for Sales R...</td>\n",
              "      <td>Hi Lily Thompson,  Thank you for expressing in...</td>\n",
              "    </tr>\n",
              "    <tr>\n",
              "      <th>...</th>\n",
              "      <td>...</td>\n",
              "      <td>...</td>\n",
              "      <td>...</td>\n",
              "    </tr>\n",
              "    <tr>\n",
              "      <th>102</th>\n",
              "      <td>1</td>\n",
              "      <td>Take the Financial Analyst Position Assessment...</td>\n",
              "      <td>Dear Daniel Wilson,  We appreciate your intere...</td>\n",
              "    </tr>\n",
              "    <tr>\n",
              "      <th>103</th>\n",
              "      <td>0</td>\n",
              "      <td>Your Application Is in Good Hands</td>\n",
              "      <td>Hi Rachel Miller,  Thank you for taking the ti...</td>\n",
              "    </tr>\n",
              "    <tr>\n",
              "      <th>104</th>\n",
              "      <td>3</td>\n",
              "      <td>Job Offer: Project Manager Position</td>\n",
              "      <td>Hi Rachel Miller,  Congratulations! We are del...</td>\n",
              "    </tr>\n",
              "    <tr>\n",
              "      <th>105</th>\n",
              "      <td>2</td>\n",
              "      <td>Final Interview Invitation: Sales Representati...</td>\n",
              "      <td>Hi Lily Thompson,  Congratulations on making i...</td>\n",
              "    </tr>\n",
              "    <tr>\n",
              "      <th>106</th>\n",
              "      <td>1</td>\n",
              "      <td>Human Resources Manager Position: Complete You...</td>\n",
              "      <td>Dear Oliver Davis,  We trust this email finds ...</td>\n",
              "    </tr>\n",
              "  </tbody>\n",
              "</table>\n",
              "<p>107 rows × 3 columns</p>\n",
              "</div>"
            ],
            "text/plain": [
              "     label                                            subject  \\\n",
              "0        1  Next Steps: Sales Representative Position Asse...   \n",
              "1        1  Take the Analytical Thinking Test for Financia...   \n",
              "2        2  Next Steps: Final Interview for Data Analyst P...   \n",
              "3        2  Final Interview Invitation for Human Resources...   \n",
              "4        1  Next Steps: Cognitive Ability Test for Sales R...   \n",
              "..     ...                                                ...   \n",
              "102      1  Take the Financial Analyst Position Assessment...   \n",
              "103      0                  Your Application Is in Good Hands   \n",
              "104      3                Job Offer: Project Manager Position   \n",
              "105      2  Final Interview Invitation: Sales Representati...   \n",
              "106      1  Human Resources Manager Position: Complete You...   \n",
              "\n",
              "                                                  body  \n",
              "0    Hi Lily Thompson,  Thank you for expressing in...  \n",
              "1    Dear Daniel Wilson,  We appreciate your intere...  \n",
              "2    Hello Jessica Brown,  Great news! You have suc...  \n",
              "3    Dear Oliver Davis,  Congratulations! We are pl...  \n",
              "4    Hi Lily Thompson,  Thank you for expressing in...  \n",
              "..                                                 ...  \n",
              "102  Dear Daniel Wilson,  We appreciate your intere...  \n",
              "103  Hi Rachel Miller,  Thank you for taking the ti...  \n",
              "104  Hi Rachel Miller,  Congratulations! We are del...  \n",
              "105  Hi Lily Thompson,  Congratulations on making i...  \n",
              "106  Dear Oliver Davis,  We trust this email finds ...  \n",
              "\n",
              "[107 rows x 3 columns]"
            ]
          },
          "execution_count": 4,
          "metadata": {},
          "output_type": "execute_result"
        }
      ],
      "source": [
        "dataset['train'].to_pandas()"
      ]
    },
    {
      "cell_type": "code",
      "execution_count": 5,
      "metadata": {
        "colab": {
          "base_uri": "https://localhost:8080/",
          "height": 252,
          "referenced_widgets": [
            "4af0f7b62af54989a1b51d24bc638f14",
            "867c90b294cc4b349fd823616cb3b587",
            "8ae2e483a85a4a1593943503d32fba95",
            "4c06dcdef8e44c1ab1d2becdadffbbdb",
            "b364d051903143399835346605479410",
            "4449dd36e154409c87d90b55de86a651",
            "5f6c422831d44727954cd4a0d6f6681a",
            "d4821dbb5cf0451886a1c477cfedfadf",
            "cfd728b4d9c648f9ab035e5143935166",
            "a8acc524b50d4cec829d71f4c655138a",
            "c8e340f2229d4d0a8a3f17bcc8307b67",
            "7882b5efa3674528b30644025e239be3",
            "07141341ada644638bbffa76b026909f",
            "c4e5ac6eb1c248549969b8b8efe88a5a",
            "8c3b06fe41284f37a87850bad4ff3753",
            "b8ccd2023a174f8492b52ceb8f08428a",
            "e60d1f5e030b4d5eba564e94ad9eee98",
            "02b0a42670984a93844f1935f9df4470",
            "d3fcb0c058ab4bcd8c9721f5185509d1",
            "aa37ca386ac7476fa888ecacfbf98d9c",
            "85c1d9fce72e4191a9906352d42356d0",
            "0d467da4bdcb491784f7db5a27344b7f",
            "5a1e292e51934d568513a767c3bd14bf",
            "3a7fc1ef89824a0e883ce0cf294d8294",
            "24461a26ab7d421687eb0d062e02e01e",
            "89e331640f174ce1b047e4cd6ada4883",
            "ab181b31e3d343c3b0613a072dcd21a0",
            "92275e5f89ec4fb4af06ac8f598c5a8e",
            "a83f7b9e67ac454cb10cd51f7e8c7f6a",
            "36f426c01b5b4adb8f410f9f984413a3",
            "453dcd6bf20949e8a285d425add2ae7b",
            "380c249ad8f5430eaf19f580d2fc18b7",
            "613503311c4641f9bf709bffa5a778e5"
          ]
        },
        "id": "v5_pMm7U16Z_",
        "outputId": "f8558e7c-c59c-4030-8965-c61bb8c63584"
      },
      "outputs": [
        {
          "name": "stderr",
          "output_type": "stream",
          "text": [
            "model_head.pkl not found on HuggingFace Hub, initialising classification head with random weights. You should TRAIN this model on a downstream task to use it for predictions and inference.\n",
            "Applying column mapping to training dataset\n"
          ]
        },
        {
          "data": {
            "application/vnd.jupyter.widget-view+json": {
              "model_id": "c1113f5d6d5b46f2b18a290c4ee3d21e",
              "version_major": 2,
              "version_minor": 0
            },
            "text/plain": [
              "Generating Training Pairs:   0%|          | 0/30 [00:00<?, ?it/s]"
            ]
          },
          "metadata": {},
          "output_type": "display_data"
        },
        {
          "name": "stderr",
          "output_type": "stream",
          "text": [
            "***** Running training *****\n",
            "  Num examples = 6420\n",
            "  Num epochs = 1\n",
            "  Total optimization steps = 1605\n",
            "  Total train batch size = 4\n"
          ]
        },
        {
          "data": {
            "application/vnd.jupyter.widget-view+json": {
              "model_id": "0d15a62bcd2c46bb9b045f55a3646c35",
              "version_major": 2,
              "version_minor": 0
            },
            "text/plain": [
              "Epoch:   0%|          | 0/1 [00:00<?, ?it/s]"
            ]
          },
          "metadata": {},
          "output_type": "display_data"
        },
        {
          "data": {
            "application/vnd.jupyter.widget-view+json": {
              "model_id": "220fead9657446499fcb590f5814f34b",
              "version_major": 2,
              "version_minor": 0
            },
            "text/plain": [
              "Iteration:   0%|          | 0/1605 [00:00<?, ?it/s]"
            ]
          },
          "metadata": {},
          "output_type": "display_data"
        }
      ],
      "source": [
        "    # Load a SetFit model from Hub\n",
        "model = SetFitModel.from_pretrained(\"sentence-transformers/paraphrase-mpnet-base-v2\")\n",
        "\n",
        "# Create trainer\n",
        "trainer = SetFitTrainer(\n",
        "    model=model,\n",
        "    train_dataset=dataset['train'],\n",
        "    loss_class=CosineSimilarityLoss,\n",
        "    metric=\"accuracy\",\n",
        "    batch_size=4,\n",
        "    num_iterations=30, # The number of text pairs to generate for contrastive learning\n",
        "    num_epochs=1, # The number of epochs to use for contrastive learning\n",
        "    column_mapping={\"body\": \"text\", \"label\": \"label\"} # Map dataset columns to text/label expected by trainer\n",
        ")\n",
        "\n",
        "# Train and evaluate\n",
        "trainer.train()"
      ]
    },
    {
      "cell_type": "code",
      "execution_count": 6,
      "metadata": {
        "id": "121dHTxl5FQ_"
      },
      "outputs": [],
      "source": [
        "trainer.model._save_pretrained(\"job_stage_classification_model\")"
      ]
    },
    {
      "cell_type": "code",
      "execution_count": 3,
      "metadata": {
        "colab": {
          "base_uri": "https://localhost:8080/"
        },
        "id": "eSmCWJmY3JKQ",
        "outputId": "0f138a09-1640-4891-d364-94702cc8ce3c"
      },
      "outputs": [],
      "source": [
        "# Download from Hub and run inference\n",
        "model = SetFitModel.from_pretrained(\"job_stage_classification_model\")\n",
        "# Run inference"
      ]
    },
    {
      "cell_type": "code",
      "execution_count": 4,
      "metadata": {},
      "outputs": [
        {
          "data": {
            "application/vnd.jupyter.widget-view+json": {
              "model_id": "89e06444117548a28ced0fb261335d5a",
              "version_major": 2,
              "version_minor": 0
            },
            "text/plain": [
              "VBox(children=(HTML(value='<center> <img\\nsrc=https://huggingface.co/front/assets/huggingface_logo-noborder.sv…"
            ]
          },
          "metadata": {},
          "output_type": "display_data"
        }
      ],
      "source": [
        "from huggingface_hub import notebook_login\n",
        "\n",
        "notebook_login()"
      ]
    },
    {
      "cell_type": "code",
      "execution_count": 5,
      "metadata": {},
      "outputs": [
        {
          "data": {
            "application/vnd.jupyter.widget-view+json": {
              "model_id": "3f3ff813fcf14ae18ccf4e028ecdbc7d",
              "version_major": 2,
              "version_minor": 0
            },
            "text/plain": [
              "model.safetensors:   0%|          | 0.00/438M [00:00<?, ?B/s]"
            ]
          },
          "metadata": {},
          "output_type": "display_data"
        },
        {
          "data": {
            "text/plain": [
              "'https://huggingface.co/karanamak/job-stage-classifier/tree/main/'"
            ]
          },
          "execution_count": 5,
          "metadata": {},
          "output_type": "execute_result"
        }
      ],
      "source": [
        "model.push_to_hub(\"karanamak/job-stage-classifier\")"
      ]
    },
    {
      "cell_type": "code",
      "execution_count": 8,
      "metadata": {
        "id": "hAhF9bPL6wAo"
      },
      "outputs": [],
      "source": [
        "def infer_one_sentence(sentence):\n",
        "        predtext = [sentence]\n",
        "        predicted_class = model(predtext)\n",
        "        return str(predicted_class)"
      ]
    },
    {
      "cell_type": "code",
      "execution_count": 15,
      "metadata": {},
      "outputs": [
        {
          "data": {
            "text/plain": [
              "'tensor([1], dtype=torch.int32)'"
            ]
          },
          "execution_count": 15,
          "metadata": {},
          "output_type": "execute_result"
        }
      ],
      "source": [
        "infer_one_sentence(\"\"\"\n",
        "\n",
        "Dear Akshit,\n",
        "\n",
        " \n",
        "\n",
        "Thank you for your interest in SAP. We are excited that you are taking steps to build your career with us. Our culture is driven by our most important asset – our people – who collaborate and innovate to make the world run better.\n",
        "\n",
        "To help us understand you better, and to help you identify areas where you will be able to excel, we would like you to complete a voluntary online assessment. If you would like to complete the assessment, please follow the link below to access the test. Please be aware that if you have already done the assessment while completing your online application, there is no need to repeat it and this link will not work for you.\n",
        " \n",
        "\n",
        "https://integration-talentcentral.eu.shl.com/Integration/ce/9c4da5f3dfaa4eae86511243dfcb8e25/?rid=54197939 \n",
        "\n",
        "If you have completed the assessment, our Talent Attraction Team will review this together with your application details. You will also receive a copy of the assessment report for your review. If you decide not to complete the assessment, the process will continue and our Talent Attraction team will get back to you.\n",
        "\n",
        "We hope that this will help you to identify the type of role where you will be happy and perform to your best.\n",
        "\n",
        "Best Regards,\n",
        "\n",
        "SAP Talent Attraction Team\n",
        "\n",
        "Technical Support\n",
        "\"\"\")"
      ]
    },
    {
      "cell_type": "code",
      "execution_count": 9,
      "metadata": {},
      "outputs": [
        {
          "data": {
            "text/plain": [
              "'tensor([0], dtype=torch.int32)'"
            ]
          },
          "execution_count": 9,
          "metadata": {},
          "output_type": "execute_result"
        }
      ],
      "source": [
        "infer_one_sentence(\"\"\" Dear Akshit,\n",
        "\n",
        "We have received your application for the position of Intern - Data Science and are thrilled that you’d like to join Micron!\n",
        "\n",
        "We are currently evaluating your experience and qualifications. Should you be shortlisted for this position, a recruiter will be in contact with you.\n",
        "\n",
        "To view your application status, log into your Candidate Home\n",
        "\n",
        "In the meantime, we encourage you to regularly visit our career site . Our “Get Matched” feature will instantly match your resume with any relevant, open vacancies.\n",
        "\n",
        "We would be delighted to answer your questions! If you are interested in learning more about Micron you may interact with our team members here . You may also view prior Q&A, by theme and topic.\n",
        "\n",
        "Once again, thank you for your time and consideration.\n",
        "\n",
        "Micron Talent Acquisition Team\"\"\")"
      ]
    },
    {
      "cell_type": "code",
      "execution_count": 14,
      "metadata": {
        "colab": {
          "base_uri": "https://localhost:8080/",
          "height": 35
        },
        "id": "ovc20Be8991M",
        "outputId": "be3f92f0-2599-45e6-cb52-f29b83e19a50"
      },
      "outputs": [
        {
          "data": {
            "text/plain": [
              "'tensor([2], dtype=torch.int32)'"
            ]
          },
          "execution_count": 14,
          "metadata": {},
          "output_type": "execute_result"
        }
      ],
      "source": [
        "infer_one_sentence(\"You have been shortlisted for the interview.Pls let me know when youare free.\")"
      ]
    },
    {
      "cell_type": "code",
      "execution_count": 11,
      "metadata": {
        "colab": {
          "base_uri": "https://localhost:8080/",
          "height": 35
        },
        "id": "vPiPgJtH99ES",
        "outputId": "aa761de9-1de9-4b25-f2c4-d5276db8f1c9"
      },
      "outputs": [
        {
          "data": {
            "text/plain": [
              "'tensor([4], dtype=torch.int32)'"
            ]
          },
          "execution_count": 11,
          "metadata": {},
          "output_type": "execute_result"
        }
      ],
      "source": [
        "infer_one_sentence(\"Thank you for your interest in the [Job Title] position at [Company Name]. We appreciate your time and effort throughout the interview process.\\n\\nAfter careful consideration, we regret to inform you that we have selected another candidate for the position. The decision was based on several factors, including the specific skills and experience required for the role, which we found to be more aligned with the selected candidate.\\n\\nWhile your application demonstrated [mention some strengths], our team ultimately decided to move forward with a candidate who possessed stronger qualifications and experience directly related to the job requirements.\\n\\nWe understand that job searching can be a challenging process, and we encourage you to continue developing your skills and experience. We appreciate your interest in [Company Name], and your application will be kept on file for potential future openings that may be a better fit.\\n\\nThank you for your understanding, and we wish you the best of luck in your job search.\")"
      ]
    },
    {
      "cell_type": "code",
      "execution_count": 12,
      "metadata": {
        "colab": {
          "base_uri": "https://localhost:8080/",
          "height": 35
        },
        "id": "CRHIeMqF9b7-",
        "outputId": "39a6452c-370f-4db2-e81d-84de20e6b9b9"
      },
      "outputs": [
        {
          "data": {
            "text/plain": [
              "'tensor([0], dtype=torch.int32)'"
            ]
          },
          "execution_count": 12,
          "metadata": {},
          "output_type": "execute_result"
        }
      ],
      "source": [
        "infer_one_sentence(\"please send your NRIC and passport to move on further.\")"
      ]
    },
    {
      "cell_type": "code",
      "execution_count": 13,
      "metadata": {
        "colab": {
          "base_uri": "https://localhost:8080/",
          "height": 35
        },
        "id": "H_8DSirj9ivW",
        "outputId": "018ef838-5711-4680-fe06-09194e2318c9"
      },
      "outputs": [
        {
          "data": {
            "text/plain": [
              "'tensor([3], dtype=torch.int32)'"
            ]
          },
          "execution_count": 13,
          "metadata": {},
          "output_type": "execute_result"
        }
      ],
      "source": [
        "infer_one_sentence(\"\"\"thank you for returning my call earlier! J\n",
        "\n",
        "As shared, we are happy to offer you an internship opportunity with IHiS for the project: NLP modelling & visualisation on clinical textual data\n",
        "\n",
        "Kindly refer to the details below for the internship details.\n",
        "\n",
        "Allowance:                  $1800 per month\n",
        "Period:                        9 Jan 2023 – 26 May 2023 (credit bearing internship)\n",
        "Office hours:               830am to 6pm (Monday to Thursday) and 830am to 530pm (Friday), 1h lunch break\n",
        "Location                      1 Maritime Square #12-01 Harbourfront Centre Singapore 099253\"\"\")"
      ]
    },
    {
      "cell_type": "code",
      "execution_count": null,
      "metadata": {},
      "outputs": [],
      "source": []
    },
    {
      "cell_type": "code",
      "execution_count": null,
      "metadata": {},
      "outputs": [],
      "source": []
    }
  ],
  "metadata": {
    "accelerator": "GPU",
    "colab": {
      "gpuType": "T4",
      "provenance": []
    },
    "kernelspec": {
      "display_name": "Python 3",
      "name": "python3"
    },
    "language_info": {
      "codemirror_mode": {
        "name": "ipython",
        "version": 3
      },
      "file_extension": ".py",
      "mimetype": "text/x-python",
      "name": "python",
      "nbconvert_exporter": "python",
      "pygments_lexer": "ipython3",
      "version": "3.9.18"
    },
    "widgets": {
      "application/vnd.jupyter.widget-state+json": {
        "02b0a42670984a93844f1935f9df4470": {
          "model_module": "@jupyter-widgets/controls",
          "model_module_version": "1.5.0",
          "model_name": "DescriptionStyleModel",
          "state": {
            "_model_module": "@jupyter-widgets/controls",
            "_model_module_version": "1.5.0",
            "_model_name": "DescriptionStyleModel",
            "_view_count": null,
            "_view_module": "@jupyter-widgets/base",
            "_view_module_version": "1.2.0",
            "_view_name": "StyleView",
            "description_width": ""
          }
        },
        "07141341ada644638bbffa76b026909f": {
          "model_module": "@jupyter-widgets/controls",
          "model_module_version": "1.5.0",
          "model_name": "HTMLModel",
          "state": {
            "_dom_classes": [],
            "_model_module": "@jupyter-widgets/controls",
            "_model_module_version": "1.5.0",
            "_model_name": "HTMLModel",
            "_view_count": null,
            "_view_module": "@jupyter-widgets/controls",
            "_view_module_version": "1.5.0",
            "_view_name": "HTMLView",
            "description": "",
            "description_tooltip": null,
            "layout": "IPY_MODEL_e60d1f5e030b4d5eba564e94ad9eee98",
            "placeholder": "​",
            "style": "IPY_MODEL_02b0a42670984a93844f1935f9df4470",
            "value": "Epoch: 100%"
          }
        },
        "0d467da4bdcb491784f7db5a27344b7f": {
          "model_module": "@jupyter-widgets/controls",
          "model_module_version": "1.5.0",
          "model_name": "DescriptionStyleModel",
          "state": {
            "_model_module": "@jupyter-widgets/controls",
            "_model_module_version": "1.5.0",
            "_model_name": "DescriptionStyleModel",
            "_view_count": null,
            "_view_module": "@jupyter-widgets/base",
            "_view_module_version": "1.2.0",
            "_view_name": "StyleView",
            "description_width": ""
          }
        },
        "24461a26ab7d421687eb0d062e02e01e": {
          "model_module": "@jupyter-widgets/controls",
          "model_module_version": "1.5.0",
          "model_name": "FloatProgressModel",
          "state": {
            "_dom_classes": [],
            "_model_module": "@jupyter-widgets/controls",
            "_model_module_version": "1.5.0",
            "_model_name": "FloatProgressModel",
            "_view_count": null,
            "_view_module": "@jupyter-widgets/controls",
            "_view_module_version": "1.5.0",
            "_view_name": "ProgressView",
            "bar_style": "success",
            "description": "",
            "description_tooltip": null,
            "layout": "IPY_MODEL_36f426c01b5b4adb8f410f9f984413a3",
            "max": 360,
            "min": 0,
            "orientation": "horizontal",
            "style": "IPY_MODEL_453dcd6bf20949e8a285d425add2ae7b",
            "value": 360
          }
        },
        "36f426c01b5b4adb8f410f9f984413a3": {
          "model_module": "@jupyter-widgets/base",
          "model_module_version": "1.2.0",
          "model_name": "LayoutModel",
          "state": {
            "_model_module": "@jupyter-widgets/base",
            "_model_module_version": "1.2.0",
            "_model_name": "LayoutModel",
            "_view_count": null,
            "_view_module": "@jupyter-widgets/base",
            "_view_module_version": "1.2.0",
            "_view_name": "LayoutView",
            "align_content": null,
            "align_items": null,
            "align_self": null,
            "border": null,
            "bottom": null,
            "display": null,
            "flex": null,
            "flex_flow": null,
            "grid_area": null,
            "grid_auto_columns": null,
            "grid_auto_flow": null,
            "grid_auto_rows": null,
            "grid_column": null,
            "grid_gap": null,
            "grid_row": null,
            "grid_template_areas": null,
            "grid_template_columns": null,
            "grid_template_rows": null,
            "height": null,
            "justify_content": null,
            "justify_items": null,
            "left": null,
            "margin": null,
            "max_height": null,
            "max_width": null,
            "min_height": null,
            "min_width": null,
            "object_fit": null,
            "object_position": null,
            "order": null,
            "overflow": null,
            "overflow_x": null,
            "overflow_y": null,
            "padding": null,
            "right": null,
            "top": null,
            "visibility": null,
            "width": null
          }
        },
        "380c249ad8f5430eaf19f580d2fc18b7": {
          "model_module": "@jupyter-widgets/base",
          "model_module_version": "1.2.0",
          "model_name": "LayoutModel",
          "state": {
            "_model_module": "@jupyter-widgets/base",
            "_model_module_version": "1.2.0",
            "_model_name": "LayoutModel",
            "_view_count": null,
            "_view_module": "@jupyter-widgets/base",
            "_view_module_version": "1.2.0",
            "_view_name": "LayoutView",
            "align_content": null,
            "align_items": null,
            "align_self": null,
            "border": null,
            "bottom": null,
            "display": null,
            "flex": null,
            "flex_flow": null,
            "grid_area": null,
            "grid_auto_columns": null,
            "grid_auto_flow": null,
            "grid_auto_rows": null,
            "grid_column": null,
            "grid_gap": null,
            "grid_row": null,
            "grid_template_areas": null,
            "grid_template_columns": null,
            "grid_template_rows": null,
            "height": null,
            "justify_content": null,
            "justify_items": null,
            "left": null,
            "margin": null,
            "max_height": null,
            "max_width": null,
            "min_height": null,
            "min_width": null,
            "object_fit": null,
            "object_position": null,
            "order": null,
            "overflow": null,
            "overflow_x": null,
            "overflow_y": null,
            "padding": null,
            "right": null,
            "top": null,
            "visibility": null,
            "width": null
          }
        },
        "3a7fc1ef89824a0e883ce0cf294d8294": {
          "model_module": "@jupyter-widgets/controls",
          "model_module_version": "1.5.0",
          "model_name": "HTMLModel",
          "state": {
            "_dom_classes": [],
            "_model_module": "@jupyter-widgets/controls",
            "_model_module_version": "1.5.0",
            "_model_name": "HTMLModel",
            "_view_count": null,
            "_view_module": "@jupyter-widgets/controls",
            "_view_module_version": "1.5.0",
            "_view_name": "HTMLView",
            "description": "",
            "description_tooltip": null,
            "layout": "IPY_MODEL_92275e5f89ec4fb4af06ac8f598c5a8e",
            "placeholder": "​",
            "style": "IPY_MODEL_a83f7b9e67ac454cb10cd51f7e8c7f6a",
            "value": "Iteration: 100%"
          }
        },
        "4449dd36e154409c87d90b55de86a651": {
          "model_module": "@jupyter-widgets/base",
          "model_module_version": "1.2.0",
          "model_name": "LayoutModel",
          "state": {
            "_model_module": "@jupyter-widgets/base",
            "_model_module_version": "1.2.0",
            "_model_name": "LayoutModel",
            "_view_count": null,
            "_view_module": "@jupyter-widgets/base",
            "_view_module_version": "1.2.0",
            "_view_name": "LayoutView",
            "align_content": null,
            "align_items": null,
            "align_self": null,
            "border": null,
            "bottom": null,
            "display": null,
            "flex": null,
            "flex_flow": null,
            "grid_area": null,
            "grid_auto_columns": null,
            "grid_auto_flow": null,
            "grid_auto_rows": null,
            "grid_column": null,
            "grid_gap": null,
            "grid_row": null,
            "grid_template_areas": null,
            "grid_template_columns": null,
            "grid_template_rows": null,
            "height": null,
            "justify_content": null,
            "justify_items": null,
            "left": null,
            "margin": null,
            "max_height": null,
            "max_width": null,
            "min_height": null,
            "min_width": null,
            "object_fit": null,
            "object_position": null,
            "order": null,
            "overflow": null,
            "overflow_x": null,
            "overflow_y": null,
            "padding": null,
            "right": null,
            "top": null,
            "visibility": null,
            "width": null
          }
        },
        "453dcd6bf20949e8a285d425add2ae7b": {
          "model_module": "@jupyter-widgets/controls",
          "model_module_version": "1.5.0",
          "model_name": "ProgressStyleModel",
          "state": {
            "_model_module": "@jupyter-widgets/controls",
            "_model_module_version": "1.5.0",
            "_model_name": "ProgressStyleModel",
            "_view_count": null,
            "_view_module": "@jupyter-widgets/base",
            "_view_module_version": "1.2.0",
            "_view_name": "StyleView",
            "bar_color": null,
            "description_width": ""
          }
        },
        "4af0f7b62af54989a1b51d24bc638f14": {
          "model_module": "@jupyter-widgets/controls",
          "model_module_version": "1.5.0",
          "model_name": "HBoxModel",
          "state": {
            "_dom_classes": [],
            "_model_module": "@jupyter-widgets/controls",
            "_model_module_version": "1.5.0",
            "_model_name": "HBoxModel",
            "_view_count": null,
            "_view_module": "@jupyter-widgets/controls",
            "_view_module_version": "1.5.0",
            "_view_name": "HBoxView",
            "box_style": "",
            "children": [
              "IPY_MODEL_867c90b294cc4b349fd823616cb3b587",
              "IPY_MODEL_8ae2e483a85a4a1593943503d32fba95",
              "IPY_MODEL_4c06dcdef8e44c1ab1d2becdadffbbdb"
            ],
            "layout": "IPY_MODEL_b364d051903143399835346605479410"
          }
        },
        "4c06dcdef8e44c1ab1d2becdadffbbdb": {
          "model_module": "@jupyter-widgets/controls",
          "model_module_version": "1.5.0",
          "model_name": "HTMLModel",
          "state": {
            "_dom_classes": [],
            "_model_module": "@jupyter-widgets/controls",
            "_model_module_version": "1.5.0",
            "_model_name": "HTMLModel",
            "_view_count": null,
            "_view_module": "@jupyter-widgets/controls",
            "_view_module_version": "1.5.0",
            "_view_name": "HTMLView",
            "description": "",
            "description_tooltip": null,
            "layout": "IPY_MODEL_a8acc524b50d4cec829d71f4c655138a",
            "placeholder": "​",
            "style": "IPY_MODEL_c8e340f2229d4d0a8a3f17bcc8307b67",
            "value": " 20/20 [00:00&lt;00:00, 133.64it/s]"
          }
        },
        "5a1e292e51934d568513a767c3bd14bf": {
          "model_module": "@jupyter-widgets/controls",
          "model_module_version": "1.5.0",
          "model_name": "HBoxModel",
          "state": {
            "_dom_classes": [],
            "_model_module": "@jupyter-widgets/controls",
            "_model_module_version": "1.5.0",
            "_model_name": "HBoxModel",
            "_view_count": null,
            "_view_module": "@jupyter-widgets/controls",
            "_view_module_version": "1.5.0",
            "_view_name": "HBoxView",
            "box_style": "",
            "children": [
              "IPY_MODEL_3a7fc1ef89824a0e883ce0cf294d8294",
              "IPY_MODEL_24461a26ab7d421687eb0d062e02e01e",
              "IPY_MODEL_89e331640f174ce1b047e4cd6ada4883"
            ],
            "layout": "IPY_MODEL_ab181b31e3d343c3b0613a072dcd21a0"
          }
        },
        "5f6c422831d44727954cd4a0d6f6681a": {
          "model_module": "@jupyter-widgets/controls",
          "model_module_version": "1.5.0",
          "model_name": "DescriptionStyleModel",
          "state": {
            "_model_module": "@jupyter-widgets/controls",
            "_model_module_version": "1.5.0",
            "_model_name": "DescriptionStyleModel",
            "_view_count": null,
            "_view_module": "@jupyter-widgets/base",
            "_view_module_version": "1.2.0",
            "_view_name": "StyleView",
            "description_width": ""
          }
        },
        "613503311c4641f9bf709bffa5a778e5": {
          "model_module": "@jupyter-widgets/controls",
          "model_module_version": "1.5.0",
          "model_name": "DescriptionStyleModel",
          "state": {
            "_model_module": "@jupyter-widgets/controls",
            "_model_module_version": "1.5.0",
            "_model_name": "DescriptionStyleModel",
            "_view_count": null,
            "_view_module": "@jupyter-widgets/base",
            "_view_module_version": "1.2.0",
            "_view_name": "StyleView",
            "description_width": ""
          }
        },
        "7882b5efa3674528b30644025e239be3": {
          "model_module": "@jupyter-widgets/controls",
          "model_module_version": "1.5.0",
          "model_name": "HBoxModel",
          "state": {
            "_dom_classes": [],
            "_model_module": "@jupyter-widgets/controls",
            "_model_module_version": "1.5.0",
            "_model_name": "HBoxModel",
            "_view_count": null,
            "_view_module": "@jupyter-widgets/controls",
            "_view_module_version": "1.5.0",
            "_view_name": "HBoxView",
            "box_style": "",
            "children": [
              "IPY_MODEL_07141341ada644638bbffa76b026909f",
              "IPY_MODEL_c4e5ac6eb1c248549969b8b8efe88a5a",
              "IPY_MODEL_8c3b06fe41284f37a87850bad4ff3753"
            ],
            "layout": "IPY_MODEL_b8ccd2023a174f8492b52ceb8f08428a"
          }
        },
        "85c1d9fce72e4191a9906352d42356d0": {
          "model_module": "@jupyter-widgets/base",
          "model_module_version": "1.2.0",
          "model_name": "LayoutModel",
          "state": {
            "_model_module": "@jupyter-widgets/base",
            "_model_module_version": "1.2.0",
            "_model_name": "LayoutModel",
            "_view_count": null,
            "_view_module": "@jupyter-widgets/base",
            "_view_module_version": "1.2.0",
            "_view_name": "LayoutView",
            "align_content": null,
            "align_items": null,
            "align_self": null,
            "border": null,
            "bottom": null,
            "display": null,
            "flex": null,
            "flex_flow": null,
            "grid_area": null,
            "grid_auto_columns": null,
            "grid_auto_flow": null,
            "grid_auto_rows": null,
            "grid_column": null,
            "grid_gap": null,
            "grid_row": null,
            "grid_template_areas": null,
            "grid_template_columns": null,
            "grid_template_rows": null,
            "height": null,
            "justify_content": null,
            "justify_items": null,
            "left": null,
            "margin": null,
            "max_height": null,
            "max_width": null,
            "min_height": null,
            "min_width": null,
            "object_fit": null,
            "object_position": null,
            "order": null,
            "overflow": null,
            "overflow_x": null,
            "overflow_y": null,
            "padding": null,
            "right": null,
            "top": null,
            "visibility": null,
            "width": null
          }
        },
        "867c90b294cc4b349fd823616cb3b587": {
          "model_module": "@jupyter-widgets/controls",
          "model_module_version": "1.5.0",
          "model_name": "HTMLModel",
          "state": {
            "_dom_classes": [],
            "_model_module": "@jupyter-widgets/controls",
            "_model_module_version": "1.5.0",
            "_model_name": "HTMLModel",
            "_view_count": null,
            "_view_module": "@jupyter-widgets/controls",
            "_view_module_version": "1.5.0",
            "_view_name": "HTMLView",
            "description": "",
            "description_tooltip": null,
            "layout": "IPY_MODEL_4449dd36e154409c87d90b55de86a651",
            "placeholder": "​",
            "style": "IPY_MODEL_5f6c422831d44727954cd4a0d6f6681a",
            "value": "Generating Training Pairs: 100%"
          }
        },
        "89e331640f174ce1b047e4cd6ada4883": {
          "model_module": "@jupyter-widgets/controls",
          "model_module_version": "1.5.0",
          "model_name": "HTMLModel",
          "state": {
            "_dom_classes": [],
            "_model_module": "@jupyter-widgets/controls",
            "_model_module_version": "1.5.0",
            "_model_name": "HTMLModel",
            "_view_count": null,
            "_view_module": "@jupyter-widgets/controls",
            "_view_module_version": "1.5.0",
            "_view_name": "HTMLView",
            "description": "",
            "description_tooltip": null,
            "layout": "IPY_MODEL_380c249ad8f5430eaf19f580d2fc18b7",
            "placeholder": "​",
            "style": "IPY_MODEL_613503311c4641f9bf709bffa5a778e5",
            "value": " 360/360 [03:39&lt;00:00,  1.70it/s]"
          }
        },
        "8ae2e483a85a4a1593943503d32fba95": {
          "model_module": "@jupyter-widgets/controls",
          "model_module_version": "1.5.0",
          "model_name": "FloatProgressModel",
          "state": {
            "_dom_classes": [],
            "_model_module": "@jupyter-widgets/controls",
            "_model_module_version": "1.5.0",
            "_model_name": "FloatProgressModel",
            "_view_count": null,
            "_view_module": "@jupyter-widgets/controls",
            "_view_module_version": "1.5.0",
            "_view_name": "ProgressView",
            "bar_style": "success",
            "description": "",
            "description_tooltip": null,
            "layout": "IPY_MODEL_d4821dbb5cf0451886a1c477cfedfadf",
            "max": 20,
            "min": 0,
            "orientation": "horizontal",
            "style": "IPY_MODEL_cfd728b4d9c648f9ab035e5143935166",
            "value": 20
          }
        },
        "8c3b06fe41284f37a87850bad4ff3753": {
          "model_module": "@jupyter-widgets/controls",
          "model_module_version": "1.5.0",
          "model_name": "HTMLModel",
          "state": {
            "_dom_classes": [],
            "_model_module": "@jupyter-widgets/controls",
            "_model_module_version": "1.5.0",
            "_model_name": "HTMLModel",
            "_view_count": null,
            "_view_module": "@jupyter-widgets/controls",
            "_view_module_version": "1.5.0",
            "_view_name": "HTMLView",
            "description": "",
            "description_tooltip": null,
            "layout": "IPY_MODEL_85c1d9fce72e4191a9906352d42356d0",
            "placeholder": "​",
            "style": "IPY_MODEL_0d467da4bdcb491784f7db5a27344b7f",
            "value": " 1/1 [03:39&lt;00:00, 219.91s/it]"
          }
        },
        "92275e5f89ec4fb4af06ac8f598c5a8e": {
          "model_module": "@jupyter-widgets/base",
          "model_module_version": "1.2.0",
          "model_name": "LayoutModel",
          "state": {
            "_model_module": "@jupyter-widgets/base",
            "_model_module_version": "1.2.0",
            "_model_name": "LayoutModel",
            "_view_count": null,
            "_view_module": "@jupyter-widgets/base",
            "_view_module_version": "1.2.0",
            "_view_name": "LayoutView",
            "align_content": null,
            "align_items": null,
            "align_self": null,
            "border": null,
            "bottom": null,
            "display": null,
            "flex": null,
            "flex_flow": null,
            "grid_area": null,
            "grid_auto_columns": null,
            "grid_auto_flow": null,
            "grid_auto_rows": null,
            "grid_column": null,
            "grid_gap": null,
            "grid_row": null,
            "grid_template_areas": null,
            "grid_template_columns": null,
            "grid_template_rows": null,
            "height": null,
            "justify_content": null,
            "justify_items": null,
            "left": null,
            "margin": null,
            "max_height": null,
            "max_width": null,
            "min_height": null,
            "min_width": null,
            "object_fit": null,
            "object_position": null,
            "order": null,
            "overflow": null,
            "overflow_x": null,
            "overflow_y": null,
            "padding": null,
            "right": null,
            "top": null,
            "visibility": null,
            "width": null
          }
        },
        "a83f7b9e67ac454cb10cd51f7e8c7f6a": {
          "model_module": "@jupyter-widgets/controls",
          "model_module_version": "1.5.0",
          "model_name": "DescriptionStyleModel",
          "state": {
            "_model_module": "@jupyter-widgets/controls",
            "_model_module_version": "1.5.0",
            "_model_name": "DescriptionStyleModel",
            "_view_count": null,
            "_view_module": "@jupyter-widgets/base",
            "_view_module_version": "1.2.0",
            "_view_name": "StyleView",
            "description_width": ""
          }
        },
        "a8acc524b50d4cec829d71f4c655138a": {
          "model_module": "@jupyter-widgets/base",
          "model_module_version": "1.2.0",
          "model_name": "LayoutModel",
          "state": {
            "_model_module": "@jupyter-widgets/base",
            "_model_module_version": "1.2.0",
            "_model_name": "LayoutModel",
            "_view_count": null,
            "_view_module": "@jupyter-widgets/base",
            "_view_module_version": "1.2.0",
            "_view_name": "LayoutView",
            "align_content": null,
            "align_items": null,
            "align_self": null,
            "border": null,
            "bottom": null,
            "display": null,
            "flex": null,
            "flex_flow": null,
            "grid_area": null,
            "grid_auto_columns": null,
            "grid_auto_flow": null,
            "grid_auto_rows": null,
            "grid_column": null,
            "grid_gap": null,
            "grid_row": null,
            "grid_template_areas": null,
            "grid_template_columns": null,
            "grid_template_rows": null,
            "height": null,
            "justify_content": null,
            "justify_items": null,
            "left": null,
            "margin": null,
            "max_height": null,
            "max_width": null,
            "min_height": null,
            "min_width": null,
            "object_fit": null,
            "object_position": null,
            "order": null,
            "overflow": null,
            "overflow_x": null,
            "overflow_y": null,
            "padding": null,
            "right": null,
            "top": null,
            "visibility": null,
            "width": null
          }
        },
        "aa37ca386ac7476fa888ecacfbf98d9c": {
          "model_module": "@jupyter-widgets/controls",
          "model_module_version": "1.5.0",
          "model_name": "ProgressStyleModel",
          "state": {
            "_model_module": "@jupyter-widgets/controls",
            "_model_module_version": "1.5.0",
            "_model_name": "ProgressStyleModel",
            "_view_count": null,
            "_view_module": "@jupyter-widgets/base",
            "_view_module_version": "1.2.0",
            "_view_name": "StyleView",
            "bar_color": null,
            "description_width": ""
          }
        },
        "ab181b31e3d343c3b0613a072dcd21a0": {
          "model_module": "@jupyter-widgets/base",
          "model_module_version": "1.2.0",
          "model_name": "LayoutModel",
          "state": {
            "_model_module": "@jupyter-widgets/base",
            "_model_module_version": "1.2.0",
            "_model_name": "LayoutModel",
            "_view_count": null,
            "_view_module": "@jupyter-widgets/base",
            "_view_module_version": "1.2.0",
            "_view_name": "LayoutView",
            "align_content": null,
            "align_items": null,
            "align_self": null,
            "border": null,
            "bottom": null,
            "display": null,
            "flex": null,
            "flex_flow": null,
            "grid_area": null,
            "grid_auto_columns": null,
            "grid_auto_flow": null,
            "grid_auto_rows": null,
            "grid_column": null,
            "grid_gap": null,
            "grid_row": null,
            "grid_template_areas": null,
            "grid_template_columns": null,
            "grid_template_rows": null,
            "height": null,
            "justify_content": null,
            "justify_items": null,
            "left": null,
            "margin": null,
            "max_height": null,
            "max_width": null,
            "min_height": null,
            "min_width": null,
            "object_fit": null,
            "object_position": null,
            "order": null,
            "overflow": null,
            "overflow_x": null,
            "overflow_y": null,
            "padding": null,
            "right": null,
            "top": null,
            "visibility": null,
            "width": null
          }
        },
        "b364d051903143399835346605479410": {
          "model_module": "@jupyter-widgets/base",
          "model_module_version": "1.2.0",
          "model_name": "LayoutModel",
          "state": {
            "_model_module": "@jupyter-widgets/base",
            "_model_module_version": "1.2.0",
            "_model_name": "LayoutModel",
            "_view_count": null,
            "_view_module": "@jupyter-widgets/base",
            "_view_module_version": "1.2.0",
            "_view_name": "LayoutView",
            "align_content": null,
            "align_items": null,
            "align_self": null,
            "border": null,
            "bottom": null,
            "display": null,
            "flex": null,
            "flex_flow": null,
            "grid_area": null,
            "grid_auto_columns": null,
            "grid_auto_flow": null,
            "grid_auto_rows": null,
            "grid_column": null,
            "grid_gap": null,
            "grid_row": null,
            "grid_template_areas": null,
            "grid_template_columns": null,
            "grid_template_rows": null,
            "height": null,
            "justify_content": null,
            "justify_items": null,
            "left": null,
            "margin": null,
            "max_height": null,
            "max_width": null,
            "min_height": null,
            "min_width": null,
            "object_fit": null,
            "object_position": null,
            "order": null,
            "overflow": null,
            "overflow_x": null,
            "overflow_y": null,
            "padding": null,
            "right": null,
            "top": null,
            "visibility": null,
            "width": null
          }
        },
        "b8ccd2023a174f8492b52ceb8f08428a": {
          "model_module": "@jupyter-widgets/base",
          "model_module_version": "1.2.0",
          "model_name": "LayoutModel",
          "state": {
            "_model_module": "@jupyter-widgets/base",
            "_model_module_version": "1.2.0",
            "_model_name": "LayoutModel",
            "_view_count": null,
            "_view_module": "@jupyter-widgets/base",
            "_view_module_version": "1.2.0",
            "_view_name": "LayoutView",
            "align_content": null,
            "align_items": null,
            "align_self": null,
            "border": null,
            "bottom": null,
            "display": null,
            "flex": null,
            "flex_flow": null,
            "grid_area": null,
            "grid_auto_columns": null,
            "grid_auto_flow": null,
            "grid_auto_rows": null,
            "grid_column": null,
            "grid_gap": null,
            "grid_row": null,
            "grid_template_areas": null,
            "grid_template_columns": null,
            "grid_template_rows": null,
            "height": null,
            "justify_content": null,
            "justify_items": null,
            "left": null,
            "margin": null,
            "max_height": null,
            "max_width": null,
            "min_height": null,
            "min_width": null,
            "object_fit": null,
            "object_position": null,
            "order": null,
            "overflow": null,
            "overflow_x": null,
            "overflow_y": null,
            "padding": null,
            "right": null,
            "top": null,
            "visibility": null,
            "width": null
          }
        },
        "c4e5ac6eb1c248549969b8b8efe88a5a": {
          "model_module": "@jupyter-widgets/controls",
          "model_module_version": "1.5.0",
          "model_name": "FloatProgressModel",
          "state": {
            "_dom_classes": [],
            "_model_module": "@jupyter-widgets/controls",
            "_model_module_version": "1.5.0",
            "_model_name": "FloatProgressModel",
            "_view_count": null,
            "_view_module": "@jupyter-widgets/controls",
            "_view_module_version": "1.5.0",
            "_view_name": "ProgressView",
            "bar_style": "success",
            "description": "",
            "description_tooltip": null,
            "layout": "IPY_MODEL_d3fcb0c058ab4bcd8c9721f5185509d1",
            "max": 1,
            "min": 0,
            "orientation": "horizontal",
            "style": "IPY_MODEL_aa37ca386ac7476fa888ecacfbf98d9c",
            "value": 1
          }
        },
        "c8e340f2229d4d0a8a3f17bcc8307b67": {
          "model_module": "@jupyter-widgets/controls",
          "model_module_version": "1.5.0",
          "model_name": "DescriptionStyleModel",
          "state": {
            "_model_module": "@jupyter-widgets/controls",
            "_model_module_version": "1.5.0",
            "_model_name": "DescriptionStyleModel",
            "_view_count": null,
            "_view_module": "@jupyter-widgets/base",
            "_view_module_version": "1.2.0",
            "_view_name": "StyleView",
            "description_width": ""
          }
        },
        "cfd728b4d9c648f9ab035e5143935166": {
          "model_module": "@jupyter-widgets/controls",
          "model_module_version": "1.5.0",
          "model_name": "ProgressStyleModel",
          "state": {
            "_model_module": "@jupyter-widgets/controls",
            "_model_module_version": "1.5.0",
            "_model_name": "ProgressStyleModel",
            "_view_count": null,
            "_view_module": "@jupyter-widgets/base",
            "_view_module_version": "1.2.0",
            "_view_name": "StyleView",
            "bar_color": null,
            "description_width": ""
          }
        },
        "d3fcb0c058ab4bcd8c9721f5185509d1": {
          "model_module": "@jupyter-widgets/base",
          "model_module_version": "1.2.0",
          "model_name": "LayoutModel",
          "state": {
            "_model_module": "@jupyter-widgets/base",
            "_model_module_version": "1.2.0",
            "_model_name": "LayoutModel",
            "_view_count": null,
            "_view_module": "@jupyter-widgets/base",
            "_view_module_version": "1.2.0",
            "_view_name": "LayoutView",
            "align_content": null,
            "align_items": null,
            "align_self": null,
            "border": null,
            "bottom": null,
            "display": null,
            "flex": null,
            "flex_flow": null,
            "grid_area": null,
            "grid_auto_columns": null,
            "grid_auto_flow": null,
            "grid_auto_rows": null,
            "grid_column": null,
            "grid_gap": null,
            "grid_row": null,
            "grid_template_areas": null,
            "grid_template_columns": null,
            "grid_template_rows": null,
            "height": null,
            "justify_content": null,
            "justify_items": null,
            "left": null,
            "margin": null,
            "max_height": null,
            "max_width": null,
            "min_height": null,
            "min_width": null,
            "object_fit": null,
            "object_position": null,
            "order": null,
            "overflow": null,
            "overflow_x": null,
            "overflow_y": null,
            "padding": null,
            "right": null,
            "top": null,
            "visibility": null,
            "width": null
          }
        },
        "d4821dbb5cf0451886a1c477cfedfadf": {
          "model_module": "@jupyter-widgets/base",
          "model_module_version": "1.2.0",
          "model_name": "LayoutModel",
          "state": {
            "_model_module": "@jupyter-widgets/base",
            "_model_module_version": "1.2.0",
            "_model_name": "LayoutModel",
            "_view_count": null,
            "_view_module": "@jupyter-widgets/base",
            "_view_module_version": "1.2.0",
            "_view_name": "LayoutView",
            "align_content": null,
            "align_items": null,
            "align_self": null,
            "border": null,
            "bottom": null,
            "display": null,
            "flex": null,
            "flex_flow": null,
            "grid_area": null,
            "grid_auto_columns": null,
            "grid_auto_flow": null,
            "grid_auto_rows": null,
            "grid_column": null,
            "grid_gap": null,
            "grid_row": null,
            "grid_template_areas": null,
            "grid_template_columns": null,
            "grid_template_rows": null,
            "height": null,
            "justify_content": null,
            "justify_items": null,
            "left": null,
            "margin": null,
            "max_height": null,
            "max_width": null,
            "min_height": null,
            "min_width": null,
            "object_fit": null,
            "object_position": null,
            "order": null,
            "overflow": null,
            "overflow_x": null,
            "overflow_y": null,
            "padding": null,
            "right": null,
            "top": null,
            "visibility": null,
            "width": null
          }
        },
        "e60d1f5e030b4d5eba564e94ad9eee98": {
          "model_module": "@jupyter-widgets/base",
          "model_module_version": "1.2.0",
          "model_name": "LayoutModel",
          "state": {
            "_model_module": "@jupyter-widgets/base",
            "_model_module_version": "1.2.0",
            "_model_name": "LayoutModel",
            "_view_count": null,
            "_view_module": "@jupyter-widgets/base",
            "_view_module_version": "1.2.0",
            "_view_name": "LayoutView",
            "align_content": null,
            "align_items": null,
            "align_self": null,
            "border": null,
            "bottom": null,
            "display": null,
            "flex": null,
            "flex_flow": null,
            "grid_area": null,
            "grid_auto_columns": null,
            "grid_auto_flow": null,
            "grid_auto_rows": null,
            "grid_column": null,
            "grid_gap": null,
            "grid_row": null,
            "grid_template_areas": null,
            "grid_template_columns": null,
            "grid_template_rows": null,
            "height": null,
            "justify_content": null,
            "justify_items": null,
            "left": null,
            "margin": null,
            "max_height": null,
            "max_width": null,
            "min_height": null,
            "min_width": null,
            "object_fit": null,
            "object_position": null,
            "order": null,
            "overflow": null,
            "overflow_x": null,
            "overflow_y": null,
            "padding": null,
            "right": null,
            "top": null,
            "visibility": null,
            "width": null
          }
        }
      }
    }
  },
  "nbformat": 4,
  "nbformat_minor": 0
}
