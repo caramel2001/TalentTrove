{
 "cells": [
  {
   "cell_type": "code",
   "execution_count": 16,
   "metadata": {},
   "outputs": [],
   "source": [
    "email_text = \"\"\"\n",
    "Subject : Flow Traders - Thank you for Applying\n",
    "Hi Pratham,\n",
    "\n",
    "Thank you for taking the time apply for the position of Graduate Trader.\n",
    "\n",
    "We appreciate the time and effort you have taken to submit your application for the role and your details are currently being reviewed by our internal recruitment team. Once we have arrived at a conclusion regarding your application, we will notify you of the outcome.\n",
    "\n",
    "Best Regards,\n",
    "APAC Recruitment Team\n",
    "\n",
    "*Please note: Do not reply to this email. This email is sent from an unattended mailbox. Replies will not be read.\n",
    "\"\"\"\n"
   ]
  },
  {
   "cell_type": "code",
   "execution_count": 22,
   "metadata": {},
   "outputs": [],
   "source": [
    "from flan import JobTitleCompanyNameExtractor\n",
    "extractor = JobTitleCompanyNameExtractor()"
   ]
  },
  {
   "cell_type": "code",
   "execution_count": 23,
   "metadata": {},
   "outputs": [
    {
     "data": {
      "text/plain": [
       "('Flow Traders', 'Graduate Trader Position')"
      ]
     },
     "execution_count": 23,
     "metadata": {},
     "output_type": "execute_result"
    }
   ],
   "source": [
    "company = extractor.get_company(email_text)\n",
    "title = extractor.get_jobtitle(email_text)\n",
    "\n",
    "company,title"
   ]
  }
 ],
 "metadata": {
  "kernelspec": {
   "display_name": "ML",
   "language": "python",
   "name": "python3"
  },
  "language_info": {
   "codemirror_mode": {
    "name": "ipython",
    "version": 3
   },
   "file_extension": ".py",
   "mimetype": "text/x-python",
   "name": "python",
   "nbconvert_exporter": "python",
   "pygments_lexer": "ipython3",
   "version": "3.9.12"
  },
  "orig_nbformat": 4
 },
 "nbformat": 4,
 "nbformat_minor": 2
}
