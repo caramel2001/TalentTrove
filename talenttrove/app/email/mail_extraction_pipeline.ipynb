{
 "cells": [
  {
   "cell_type": "code",
   "execution_count": 8,
   "metadata": {},
   "outputs": [],
   "source": [
    "from gmail import Gmail\n",
    "from datetime import datetime\n",
    "from setfit import SetFitModel\n",
    "from bs4 import BeautifulSoup\n",
    "import os\n",
    "import pandas as pd\n",
    "from flan import JobTitleCompanyNameExtractor\n",
    "\n",
    "\n"
   ]
  },
  {
   "cell_type": "code",
   "execution_count": 4,
   "metadata": {},
   "outputs": [],
   "source": [
    "email_clasification_model = SetFitModel.from_pretrained(\"./../models/job_email_classification_model\")\n",
    "job_stage_classification_model = SetFitModel.from_pretrained(\"./../models/job_stage_classification_model\")\n",
    "extractor = JobTitleCompanyNameExtractor()\n",
    "def infer_one_sentence(model, sentence):\n",
    "        predtext = [sentence]\n",
    "        predicted_class = model(predtext)\n",
    "        return str(predicted_class.numpy()[0])"
   ]
  },
  {
   "cell_type": "code",
   "execution_count": 28,
   "metadata": {},
   "outputs": [],
   "source": [
    "def get_email_csv():\n",
    "    gmail = Gmail(username=\"akshit.karanam99@gmail.com\",password=\"uknf iafz dpna qyjb\")\n",
    "    gmail.authenticate()\n",
    "    specified_date = datetime(2023, 11, 30)\n",
    "    formatted_date = specified_date.strftime(\"%d-%b-%Y\")\n",
    "    ids = gmail.get_email_by_date(from_date=formatted_date)\n",
    "    email_dict = gmail.parse_emails(ids[:5])\n",
    "    emails_final_list = []\n",
    "    for email in email_dict:\n",
    "        try:\n",
    "            subject = (email['subject']).decode('utf-8')\n",
    "        except:\n",
    "            subject = email['subject']\n",
    "\n",
    "        html = str(BeautifulSoup(email['body']).text)\n",
    "        string_list = [s.strip() for s in str(html).split()]\n",
    "        final_string = ' '.join(string_list)\n",
    "        final_string = \"Subject: \" + str(subject) +\". Body: \" + final_string\n",
    "        stage = \"\"\n",
    "        predicted_class = infer_one_sentence(email_clasification_model,final_string)\n",
    "        if predicted_class == \"1\":\n",
    "            stage = infer_one_sentence(model=job_stage_classification_model,sentence=final_string)\n",
    "            company = extractor.get_company(final_string)\n",
    "            title = extractor.get_jobtitle(final_string)\n",
    "            print(stage)\n",
    "            emails_final_list.append({'id':email['id'] , \"date\": email['date'],'Email Content': final_string,\"Stage\":stage})\n",
    "    df = pd.DataFrame(emails_final_list)        \n",
    "\n",
    "    file_path = './../../data/applied_data/jobs_applied.csv'\n",
    "\n",
    "    if os.path.exists(file_path):\n",
    "\n",
    "        df.to_csv(file_path, mode='a', index=False, header=False)\n",
    "    else:\n",
    "        if df.empty:\n",
    "            df = pd.DataFrame(columns=['ID','Date','Email Content','Stage'])\n",
    "        df.to_csv(file_path, index=False)    "
   ]
  },
  {
   "cell_type": "code",
   "execution_count": 29,
   "metadata": {},
   "outputs": [
    {
     "name": "stderr",
     "output_type": "stream",
     "text": [
      "100%|██████████| 5/5 [00:01<00:00,  2.78it/s]\n"
     ]
    }
   ],
   "source": [
    "get_email_csv()"
   ]
  },
  {
   "cell_type": "code",
   "execution_count": 5,
   "metadata": {},
   "outputs": [
    {
     "name": "stdout",
     "output_type": "stream",
     "text": [
      "NOT JOB EMAIL\n",
      "NOT JOB EMAIL\n",
      "NOT JOB EMAIL\n",
      "NOT JOB EMAIL\n",
      "NOT JOB EMAIL\n"
     ]
    }
   ],
   "source": []
  },
  {
   "cell_type": "code",
   "execution_count": null,
   "metadata": {},
   "outputs": [],
   "source": []
  },
  {
   "cell_type": "code",
   "execution_count": 18,
   "metadata": {},
   "outputs": [],
   "source": []
  },
  {
   "cell_type": "code",
   "execution_count": null,
   "metadata": {},
   "outputs": [],
   "source": []
  }
 ],
 "metadata": {
  "kernelspec": {
   "display_name": "torchenv",
   "language": "python",
   "name": "python3"
  },
  "language_info": {
   "codemirror_mode": {
    "name": "ipython",
    "version": 3
   },
   "file_extension": ".py",
   "mimetype": "text/x-python",
   "name": "python",
   "nbconvert_exporter": "python",
   "pygments_lexer": "ipython3",
   "version": "3.9.18"
  }
 },
 "nbformat": 4,
 "nbformat_minor": 2
}
