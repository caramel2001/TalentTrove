{
 "cells": [
  {
   "cell_type": "code",
   "execution_count": 1,
   "metadata": {},
   "outputs": [],
   "source": [
    "from gmail import Gmail\n",
    "from datetime import datetime\n",
    "from setfit import SetFitModel\n",
    "from bs4 import BeautifulSoup\n",
    "import os\n",
    "import pandas as pd\n",
    "from flan import JobTitleCompanyNameExtractor\n",
    "# from huggingchat import HFJobTitleCompanyNameExtractor\n",
    "from tqdm import tqdm\n",
    "\n",
    "\n"
   ]
  },
  {
   "cell_type": "code",
   "execution_count": 2,
   "metadata": {},
   "outputs": [
    {
     "name": "stderr",
     "output_type": "stream",
     "text": [
      "/Users/akshit/Library/Caches/pypoetry/virtualenvs/talenttrove-mo4SAvxM-py3.10/lib/python3.10/site-packages/sklearn/base.py:348: InconsistentVersionWarning: Trying to unpickle estimator LogisticRegression from version 1.2.2 when using version 1.3.2. This might lead to breaking code or invalid results. Use at your own risk. For more info please refer to:\n",
      "https://scikit-learn.org/stable/model_persistence.html#security-maintainability-limitations\n",
      "  warnings.warn(\n",
      "/Users/akshit/Library/Caches/pypoetry/virtualenvs/talenttrove-mo4SAvxM-py3.10/lib/python3.10/site-packages/sklearn/base.py:348: InconsistentVersionWarning: Trying to unpickle estimator LogisticRegression from version 1.3.0 when using version 1.3.2. This might lead to breaking code or invalid results. Use at your own risk. For more info please refer to:\n",
      "https://scikit-learn.org/stable/model_persistence.html#security-maintainability-limitations\n",
      "  warnings.warn(\n"
     ]
    },
    {
     "data": {
      "application/vnd.jupyter.widget-view+json": {
       "model_id": "db4863b3e1bc4c40a82901ae7a1bf706",
       "version_major": 2,
       "version_minor": 0
      },
      "text/plain": [
       "model.safetensors:   0%|          | 0.00/990M [00:00<?, ?B/s]"
      ]
     },
     "metadata": {},
     "output_type": "display_data"
    },
    {
     "data": {
      "application/vnd.jupyter.widget-view+json": {
       "model_id": "aff4af5d192d4c759c77cfef4b8de660",
       "version_major": 2,
       "version_minor": 0
      },
      "text/plain": [
       "generation_config.json:   0%|          | 0.00/147 [00:00<?, ?B/s]"
      ]
     },
     "metadata": {},
     "output_type": "display_data"
    },
    {
     "data": {
      "application/vnd.jupyter.widget-view+json": {
       "model_id": "7b3a742841cc4e30969acddbd65eeba5",
       "version_major": 2,
       "version_minor": 0
      },
      "text/plain": [
       "tokenizer_config.json:   0%|          | 0.00/2.54k [00:00<?, ?B/s]"
      ]
     },
     "metadata": {},
     "output_type": "display_data"
    },
    {
     "data": {
      "application/vnd.jupyter.widget-view+json": {
       "model_id": "0989dce7334a4c189b1abaa74c7fa12d",
       "version_major": 2,
       "version_minor": 0
      },
      "text/plain": [
       "spiece.model:   0%|          | 0.00/792k [00:00<?, ?B/s]"
      ]
     },
     "metadata": {},
     "output_type": "display_data"
    },
    {
     "data": {
      "application/vnd.jupyter.widget-view+json": {
       "model_id": "e2d3e33654524ccd88d7e339e280fd0c",
       "version_major": 2,
       "version_minor": 0
      },
      "text/plain": [
       "tokenizer.json:   0%|          | 0.00/2.42M [00:00<?, ?B/s]"
      ]
     },
     "metadata": {},
     "output_type": "display_data"
    },
    {
     "data": {
      "application/vnd.jupyter.widget-view+json": {
       "model_id": "8f12f34b4e784586a75520dd98dde6c8",
       "version_major": 2,
       "version_minor": 0
      },
      "text/plain": [
       "special_tokens_map.json:   0%|          | 0.00/2.20k [00:00<?, ?B/s]"
      ]
     },
     "metadata": {},
     "output_type": "display_data"
    }
   ],
   "source": [
    "email_clasification_model = SetFitModel.from_pretrained(\"./../models/job_email_classification_model_final\")\n",
    "job_stage_classification_model = SetFitModel.from_pretrained(\"./../models/job_stage_classification_model\")\n",
    "extractor = JobTitleCompanyNameExtractor()\n",
    "def infer_one_sentence(model, sentence):\n",
    "        predtext = [sentence]\n",
    "        predicted_class = model(predtext)\n",
    "        return str(predicted_class.numpy()[0])"
   ]
  },
  {
   "cell_type": "code",
   "execution_count": 11,
   "metadata": {},
   "outputs": [],
   "source": [
    "def get_email_csv():\n",
    "    gmail = Gmail(username=\"akshit.karanam99@gmail.com\",password=\"uknf iafz dpna qyjb\")\n",
    "    gmail.authenticate()\n",
    "    specified_date = datetime(2023, 11, 1)\n",
    "    formatted_date = specified_date.strftime(\"%d-%b-%Y\")\n",
    "    ids = gmail.get_email_by_date(from_date=formatted_date)\n",
    "    email_dict = gmail.parse_emails(ids[:10])\n",
    "    emails_final_list = []\n",
    "    for email in tqdm(email_dict):\n",
    "        try:\n",
    "            subject = (email['subject']).decode('utf-8')\n",
    "        except:\n",
    "            subject = email['subject']\n",
    "\n",
    "        html = str(BeautifulSoup(email['body']).text)\n",
    "        string_list = [s.strip() for s in str(html).split()]\n",
    "        final_string = ' '.join(string_list)\n",
    "        final_string_without_subject = ' '.join(string_list)\n",
    "        final_string = \"Subject: \" + str(subject) +\". Body: \" + final_string\n",
    "        stage = \"\"\n",
    "        predicted_class = infer_one_sentence(email_clasification_model,final_string_without_subject)\n",
    "        if predicted_class == \"1\":\n",
    "            stage = infer_one_sentence(model=job_stage_classification_model,sentence=final_string)\n",
    "            company = extractor.get_company(final_string)\n",
    "            title = extractor.get_jobtitle(final_string)\n",
    "            print(stage)\n",
    "            print(company)\n",
    "            print(title)\n",
    "            emails_final_list.append({'id':email['id'] , \"date\": email['date'],'title': title,\"company\":company,'stage':stage})\n",
    "    df = pd.DataFrame(emails_final_list)        \n",
    "\n",
    "    file_path = './../../data/applied_data/jobs_applied.csv'\n",
    "\n",
    "    if os.path.exists(file_path):\n",
    "\n",
    "        df.to_csv(file_path, mode='a', index=False, header=False)\n",
    "    else:\n",
    "        if df.empty:\n",
    "            df = pd.DataFrame(columns=['id','date','title','company','stage'])\n",
    "        df.to_csv(file_path, index=False)    "
   ]
  },
  {
   "cell_type": "code",
   "execution_count": 12,
   "metadata": {},
   "outputs": [
    {
     "name": "stderr",
     "output_type": "stream",
     "text": [
      "100%|██████████| 10/10 [00:03<00:00,  3.01it/s]\n",
      " 40%|████      | 4/10 [00:01<00:01,  4.01it/s]Token indices sequence length is longer than the specified maximum sequence length for this model (5470 > 512). Running this sequence through the model will result in indexing errors\n",
      "/Users/akshit/Library/Caches/pypoetry/virtualenvs/talenttrove-mo4SAvxM-py3.10/lib/python3.10/site-packages/transformers/generation/utils.py:1273: UserWarning: Using the model-agnostic default `max_length` (=20) to control the generation length. We recommend setting `max_new_tokens` to control the maximum length of the generation.\n",
      "  warnings.warn(\n",
      " 50%|█████     | 5/10 [00:43<01:16, 15.38s/it]"
     ]
    },
    {
     "name": "stdout",
     "output_type": "stream",
     "text": [
      "3\n",
      "Linkedin - Career Opportunities for Data Scientists - Career Opportunity: Data Scientist in\n",
      "Linkedin - Career Opportunities for Data Scientists - Career Opportunity: Data Scientist in\n"
     ]
    },
    {
     "name": "stderr",
     "output_type": "stream",
     "text": [
      "/Users/akshit/Library/Caches/pypoetry/virtualenvs/talenttrove-mo4SAvxM-py3.10/lib/python3.10/site-packages/transformers/generation/utils.py:1273: UserWarning: Using the model-agnostic default `max_length` (=20) to control the generation length. We recommend setting `max_new_tokens` to control the maximum length of the generation.\n",
      "  warnings.warn(\n",
      " 60%|██████    | 6/10 [01:16<01:26, 21.52s/it]"
     ]
    },
    {
     "name": "stdout",
     "output_type": "stream",
     "text": [
      "3\n",
      "Linkedin's job alert for \"software engineer\": Akshit Karanam (\n",
      "Linkedin's job alert for \"software engineer\": Akshit Karanam (\n"
     ]
    },
    {
     "name": "stderr",
     "output_type": "stream",
     "text": [
      "/Users/akshit/Library/Caches/pypoetry/virtualenvs/talenttrove-mo4SAvxM-py3.10/lib/python3.10/site-packages/transformers/generation/utils.py:1273: UserWarning: Using the model-agnostic default `max_length` (=20) to control the generation length. We recommend setting `max_new_tokens` to control the maximum length of the generation.\n",
      "  warnings.warn(\n",
      " 80%|████████  | 8/10 [01:32<00:26, 13.44s/it]"
     ]
    },
    {
     "name": "stdout",
     "output_type": "stream",
     "text": [
      "2\n",
      "MATCHLAH LLP\n",
      "MATCHLAH LLP\n"
     ]
    },
    {
     "name": "stderr",
     "output_type": "stream",
     "text": [
      " 90%|█████████ | 9/10 [01:32<00:09,  9.32s/it]/Users/akshit/Library/Caches/pypoetry/virtualenvs/talenttrove-mo4SAvxM-py3.10/lib/python3.10/site-packages/transformers/generation/utils.py:1273: UserWarning: Using the model-agnostic default `max_length` (=20) to control the generation length. We recommend setting `max_new_tokens` to control the maximum length of the generation.\n",
      "  warnings.warn(\n",
      "100%|██████████| 10/10 [01:34<00:00,  9.41s/it]"
     ]
    },
    {
     "name": "stdout",
     "output_type": "stream",
     "text": [
      "2\n",
      "Hello! We are here to help!\n",
      "Hi there, Are you stuck and need some help? We noticed you haven't imported\n"
     ]
    },
    {
     "name": "stderr",
     "output_type": "stream",
     "text": [
      "\n"
     ]
    }
   ],
   "source": [
    "get_email_csv()"
   ]
  },
  {
   "cell_type": "code",
   "execution_count": null,
   "metadata": {},
   "outputs": [],
   "source": []
  },
  {
   "cell_type": "code",
   "execution_count": null,
   "metadata": {},
   "outputs": [],
   "source": []
  },
  {
   "cell_type": "code",
   "execution_count": null,
   "metadata": {},
   "outputs": [],
   "source": []
  }
 ],
 "metadata": {
  "kernelspec": {
   "display_name": "torchenv",
   "language": "python",
   "name": "python3"
  },
  "language_info": {
   "codemirror_mode": {
    "name": "ipython",
    "version": 3
   },
   "file_extension": ".py",
   "mimetype": "text/x-python",
   "name": "python",
   "nbconvert_exporter": "python",
   "pygments_lexer": "ipython3",
   "version": "3.10.2"
  }
 },
 "nbformat": 4,
 "nbformat_minor": 2
}
