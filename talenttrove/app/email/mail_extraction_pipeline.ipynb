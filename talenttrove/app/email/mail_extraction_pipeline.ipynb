{
 "cells": [
  {
   "cell_type": "code",
   "execution_count": 1,
   "metadata": {},
   "outputs": [],
   "source": [
    "from gmail import Gmail\n",
    "from datetime import datetime\n",
    "from setfit import SetFitModel\n",
    "from bs4 import BeautifulSoup\n",
    "import os\n",
    "import pandas as pd\n",
    "# from flan import JobTitleCompanyNameExtractor\n",
    "from huggingchat import HFJobTitleCompanyNameExtractor\n",
    "from tqdm import tqdm\n",
    "\n",
    "\n"
   ]
  },
  {
   "cell_type": "code",
   "execution_count": 2,
   "metadata": {},
   "outputs": [
    {
     "name": "stderr",
     "output_type": "stream",
     "text": [
      "/Users/akshit/Library/Caches/pypoetry/virtualenvs/talenttrove-mo4SAvxM-py3.10/lib/python3.10/site-packages/sklearn/base.py:348: InconsistentVersionWarning: Trying to unpickle estimator LogisticRegression from version 1.2.2 when using version 1.3.2. This might lead to breaking code or invalid results. Use at your own risk. For more info please refer to:\n",
      "https://scikit-learn.org/stable/model_persistence.html#security-maintainability-limitations\n",
      "  warnings.warn(\n",
      "/Users/akshit/Library/Caches/pypoetry/virtualenvs/talenttrove-mo4SAvxM-py3.10/lib/python3.10/site-packages/sklearn/base.py:348: InconsistentVersionWarning: Trying to unpickle estimator LogisticRegression from version 1.3.0 when using version 1.3.2. This might lead to breaking code or invalid results. Use at your own risk. For more info please refer to:\n",
      "https://scikit-learn.org/stable/model_persistence.html#security-maintainability-limitations\n",
      "  warnings.warn(\n"
     ]
    }
   ],
   "source": [
    "email_clasification_model = SetFitModel.from_pretrained(\"./../models/job_email_classification_model_final\")\n",
    "job_stage_classification_model = SetFitModel.from_pretrained(\"./../models/job_stage_classification_model\")\n",
    "extractor = HFJobTitleCompanyNameExtractor()\n",
    "def infer_one_sentence(model, sentence):\n",
    "        predtext = [sentence]\n",
    "        predicted_class = model(predtext)\n",
    "        return str(predicted_class.numpy()[0])"
   ]
  },
  {
   "cell_type": "code",
   "execution_count": 3,
   "metadata": {},
   "outputs": [],
   "source": [
    "def get_email_csv():\n",
    "    gmail = Gmail(username=\"akshit.karanam99@gmail.com\",password=\"uknf iafz dpna qyjb\")\n",
    "    gmail.authenticate()\n",
    "    specified_date = datetime(2022, 9, 1)\n",
    "    formatted_date = specified_date.strftime(\"%d-%b-%Y\")\n",
    "    ids = gmail.get_email_by_date(from_date=formatted_date)\n",
    "    email_dict = gmail.parse_emails(ids[:10])\n",
    "    emails_final_list = []\n",
    "    for email in tqdm(email_dict):\n",
    "        try:\n",
    "            subject = (email['subject']).decode('utf-8')\n",
    "        except:\n",
    "            subject = email['subject']\n",
    "\n",
    "        html = str(BeautifulSoup(email['body']).text)\n",
    "        string_list = [s.strip() for s in str(html).split()]\n",
    "        final_string = ' '.join(string_list)\n",
    "        final_string_without_subject = ' '.join(string_list)\n",
    "        final_string = \"Subject: \" + str(subject) +\". Body: \" + final_string\n",
    "        stage = \"\"\n",
    "        predicted_class = infer_one_sentence(email_clasification_model,final_string_without_subject)\n",
    "        if predicted_class == \"1\":\n",
    "            stage = infer_one_sentence(model=job_stage_classification_model,sentence=final_string)\n",
    "            company = extractor.get_company(final_string)\n",
    "            title = extractor.get_jobtitle(final_string)\n",
    "            # print(stage)\n",
    "            # print(company)\n",
    "            # print(title)\n",
    "            emails_final_list.append({'id':email['id'] , \"date\": email['date'],'title': title,\"company\":company,'stage':stage})\n",
    "    df = pd.DataFrame(emails_final_list)        \n",
    "\n",
    "    file_path = './../../data/applied_data/jobs_applied.csv'\n",
    "\n",
    "    if os.path.exists(file_path):\n",
    "\n",
    "        df.to_csv(file_path, mode='a', index=False, header=False)\n",
    "    else:\n",
    "        if df.empty:\n",
    "            df = pd.DataFrame(columns=['id','date','title','company','stage'])\n",
    "        df.to_csv(file_path, index=False)    "
   ]
  },
  {
   "cell_type": "code",
   "execution_count": 4,
   "metadata": {},
   "outputs": [],
   "source": [
    "get_email_csv()"
   ]
  },
  {
   "cell_type": "code",
   "execution_count": null,
   "metadata": {},
   "outputs": [],
   "source": []
  },
  {
   "cell_type": "code",
   "execution_count": 18,
   "metadata": {},
   "outputs": [],
   "source": []
  },
  {
   "cell_type": "code",
   "execution_count": null,
   "metadata": {},
   "outputs": [],
   "source": []
  }
 ],
 "metadata": {
  "kernelspec": {
   "display_name": "torchenv",
   "language": "python",
   "name": "python3"
  },
  "language_info": {
   "codemirror_mode": {
    "name": "ipython",
    "version": 3
   },
   "file_extension": ".py",
   "mimetype": "text/x-python",
   "name": "python",
   "nbconvert_exporter": "python",
   "pygments_lexer": "ipython3",
   "version": "3.10.2"
  }
 },
 "nbformat": 4,
 "nbformat_minor": 2
}
