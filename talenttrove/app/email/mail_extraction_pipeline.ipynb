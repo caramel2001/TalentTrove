{
 "cells": [
  {
   "cell_type": "code",
   "execution_count": 1,
   "metadata": {},
   "outputs": [],
   "source": [
    "from gmail import Gmail\n",
    "from datetime import datetime\n",
    "from setfit import SetFitModel\n",
    "from bs4 import BeautifulSoup\n",
    "import os\n",
    "import pandas as pd\n",
    "# from flan import JobTitleCompanyNameExtractor\n",
    "from huggingchat import HFJobTitleCompanyNameExtractor\n",
    "\n",
    "\n"
   ]
  },
  {
   "cell_type": "code",
   "execution_count": 2,
   "metadata": {},
   "outputs": [
    {
     "name": "stderr",
     "output_type": "stream",
     "text": [
      "/Users/akshit/Library/Caches/pypoetry/virtualenvs/talenttrove-mo4SAvxM-py3.10/lib/python3.10/site-packages/sklearn/base.py:348: InconsistentVersionWarning: Trying to unpickle estimator LogisticRegression from version 1.3.0 when using version 1.3.2. This might lead to breaking code or invalid results. Use at your own risk. For more info please refer to:\n",
      "https://scikit-learn.org/stable/model_persistence.html#security-maintainability-limitations\n",
      "  warnings.warn(\n"
     ]
    }
   ],
   "source": [
    "email_clasification_model = SetFitModel.from_pretrained(\"./../models/job_email_classification_model\")\n",
    "job_stage_classification_model = SetFitModel.from_pretrained(\"./../models/job_stage_classification_model\")\n",
    "extractor = HFJobTitleCompanyNameExtractor()\n",
    "def infer_one_sentence(model, sentence):\n",
    "        predtext = [sentence]\n",
    "        predicted_class = model(predtext)\n",
    "        return str(predicted_class.numpy()[0])"
   ]
  },
  {
   "cell_type": "code",
   "execution_count": 7,
   "metadata": {},
   "outputs": [],
   "source": [
    "def get_email_csv():\n",
    "    gmail = Gmail(username=\"akshit.karanam99@gmail.com\",password=\"uknf iafz dpna qyjb\")\n",
    "    gmail.authenticate()\n",
    "    specified_date = datetime(2022, 9, 1)\n",
    "    formatted_date = specified_date.strftime(\"%d-%b-%Y\")\n",
    "    ids = gmail.get_email_by_date(from_date=formatted_date)\n",
    "    email_dict = gmail.parse_emails(ids[:10])\n",
    "    emails_final_list = []\n",
    "    for email in email_dict:\n",
    "        try:\n",
    "            subject = (email['subject']).decode('utf-8')\n",
    "        except:\n",
    "            subject = email['subject']\n",
    "\n",
    "        html = str(BeautifulSoup(email['body']).text)\n",
    "        string_list = [s.strip() for s in str(html).split()]\n",
    "        final_string = ' '.join(string_list)\n",
    "        final_string = \"Subject: \" + str(subject) +\". Body: \" + final_string\n",
    "        stage = \"\"\n",
    "        predicted_class = infer_one_sentence(email_clasification_model,final_string)\n",
    "        if predicted_class == \"1\":\n",
    "            stage = infer_one_sentence(model=job_stage_classification_model,sentence=final_string)\n",
    "            company = extractor.get_company(final_string)\n",
    "            title = extractor.get_jobtitle(final_string)\n",
    "            print(stage)\n",
    "            emails_final_list.append({'id':email['id'] , \"date\": email['date'],'Email Content': final_string,\"Stage\":stage})\n",
    "    df = pd.DataFrame(emails_final_list)        \n",
    "\n",
    "    file_path = './../../data/applied_data/jobs_applied.csv'\n",
    "\n",
    "    if os.path.exists(file_path):\n",
    "\n",
    "        df.to_csv(file_path, mode='a', index=False, header=False)\n",
    "    else:\n",
    "        if df.empty:\n",
    "            df = pd.DataFrame(columns=['ID','Date','Email Content','Stage'])\n",
    "        df.to_csv(file_path, index=False)    "
   ]
  },
  {
   "cell_type": "code",
   "execution_count": 8,
   "metadata": {},
   "outputs": [
    {
     "name": "stderr",
     "output_type": "stream",
     "text": [
      " 70%|███████   | 7/10 [00:02<00:00,  3.09it/s]\n"
     ]
    },
    {
     "ename": "UnicodeDecodeError",
     "evalue": "'utf-8' codec can't decode byte 0x89 in position 0: invalid start byte",
     "output_type": "error",
     "traceback": [
      "\u001b[0;31m---------------------------------------------------------------------------\u001b[0m",
      "\u001b[0;31mUnicodeDecodeError\u001b[0m                        Traceback (most recent call last)",
      "\u001b[1;32m/Users/akshit/Documents/cZ4125/TalentTrove/talenttrove/app/email/mail_extraction_pipeline.ipynb Cell 4\u001b[0m line \u001b[0;36m1\n\u001b[0;32m----> <a href='vscode-notebook-cell:/Users/akshit/Documents/cZ4125/TalentTrove/talenttrove/app/email/mail_extraction_pipeline.ipynb#W3sZmlsZQ%3D%3D?line=0'>1</a>\u001b[0m get_email_csv()\n",
      "\u001b[1;32m/Users/akshit/Documents/cZ4125/TalentTrove/talenttrove/app/email/mail_extraction_pipeline.ipynb Cell 4\u001b[0m line \u001b[0;36m7\n\u001b[1;32m      <a href='vscode-notebook-cell:/Users/akshit/Documents/cZ4125/TalentTrove/talenttrove/app/email/mail_extraction_pipeline.ipynb#W3sZmlsZQ%3D%3D?line=4'>5</a>\u001b[0m formatted_date \u001b[39m=\u001b[39m specified_date\u001b[39m.\u001b[39mstrftime(\u001b[39m\"\u001b[39m\u001b[39m%d\u001b[39;00m\u001b[39m-\u001b[39m\u001b[39m%\u001b[39m\u001b[39mb-\u001b[39m\u001b[39m%\u001b[39m\u001b[39mY\u001b[39m\u001b[39m\"\u001b[39m)\n\u001b[1;32m      <a href='vscode-notebook-cell:/Users/akshit/Documents/cZ4125/TalentTrove/talenttrove/app/email/mail_extraction_pipeline.ipynb#W3sZmlsZQ%3D%3D?line=5'>6</a>\u001b[0m ids \u001b[39m=\u001b[39m gmail\u001b[39m.\u001b[39mget_email_by_date(from_date\u001b[39m=\u001b[39mformatted_date)\n\u001b[0;32m----> <a href='vscode-notebook-cell:/Users/akshit/Documents/cZ4125/TalentTrove/talenttrove/app/email/mail_extraction_pipeline.ipynb#W3sZmlsZQ%3D%3D?line=6'>7</a>\u001b[0m email_dict \u001b[39m=\u001b[39m gmail\u001b[39m.\u001b[39;49mparse_emails(ids[:\u001b[39m10\u001b[39;49m])\n\u001b[1;32m      <a href='vscode-notebook-cell:/Users/akshit/Documents/cZ4125/TalentTrove/talenttrove/app/email/mail_extraction_pipeline.ipynb#W3sZmlsZQ%3D%3D?line=7'>8</a>\u001b[0m emails_final_list \u001b[39m=\u001b[39m []\n\u001b[1;32m      <a href='vscode-notebook-cell:/Users/akshit/Documents/cZ4125/TalentTrove/talenttrove/app/email/mail_extraction_pipeline.ipynb#W3sZmlsZQ%3D%3D?line=8'>9</a>\u001b[0m \u001b[39mfor\u001b[39;00m email \u001b[39min\u001b[39;00m email_dict:\n",
      "File \u001b[0;32m~/Documents/cZ4125/TalentTrove/talenttrove/app/email/gmail.py:65\u001b[0m, in \u001b[0;36mGmail.parse_emails\u001b[0;34m(self, ids)\u001b[0m\n\u001b[1;32m     58\u001b[0m     subject, _ \u001b[39m=\u001b[39m decode_header(msg[\u001b[39m\"\u001b[39m\u001b[39mSubject\u001b[39m\u001b[39m\"\u001b[39m])[\u001b[39m0\u001b[39m]\n\u001b[1;32m     59\u001b[0m     sender, _ \u001b[39m=\u001b[39m decode_header(msg[\u001b[39m\"\u001b[39m\u001b[39mFrom\u001b[39m\u001b[39m\"\u001b[39m])[\u001b[39m0\u001b[39m]\n\u001b[1;32m     60\u001b[0m     data\u001b[39m.\u001b[39mappend(\n\u001b[1;32m     61\u001b[0m         {\n\u001b[1;32m     62\u001b[0m             \u001b[39m'\u001b[39m\u001b[39msubject\u001b[39m\u001b[39m'\u001b[39m:subject,\n\u001b[1;32m     63\u001b[0m             \u001b[39m'\u001b[39m\u001b[39msender\u001b[39m\u001b[39m'\u001b[39m:sender,\n\u001b[1;32m     64\u001b[0m             \u001b[39m'\u001b[39m\u001b[39mdate\u001b[39m\u001b[39m'\u001b[39m:msg[\u001b[39m'\u001b[39m\u001b[39mDate\u001b[39m\u001b[39m'\u001b[39m],\n\u001b[0;32m---> 65\u001b[0m             \u001b[39m'\u001b[39m\u001b[39mbody\u001b[39m\u001b[39m'\u001b[39m:\u001b[39mself\u001b[39;49m\u001b[39m.\u001b[39;49mget_body(msg),\n\u001b[1;32m     66\u001b[0m         }\n\u001b[1;32m     67\u001b[0m     )\n\u001b[1;32m     69\u001b[0m \u001b[39mreturn\u001b[39;00m data\n",
      "File \u001b[0;32m~/Documents/cZ4125/TalentTrove/talenttrove/app/email/gmail.py:44\u001b[0m, in \u001b[0;36mGmail.get_body\u001b[0;34m(msg)\u001b[0m\n\u001b[1;32m     42\u001b[0m             \u001b[39mif\u001b[39;00m body \u001b[39mis\u001b[39;00m \u001b[39mNone\u001b[39;00m:\n\u001b[1;32m     43\u001b[0m                 \u001b[39mcontinue\u001b[39;00m\n\u001b[0;32m---> 44\u001b[0m             body \u001b[39m=\u001b[39m body\u001b[39m.\u001b[39;49mdecode()\n\u001b[1;32m     45\u001b[0m \u001b[39melse\u001b[39;00m:\n\u001b[1;32m     46\u001b[0m     body \u001b[39m=\u001b[39m msg\u001b[39m.\u001b[39mget_payload(decode\u001b[39m=\u001b[39m\u001b[39mTrue\u001b[39;00m)\u001b[39m.\u001b[39mdecode()\n",
      "\u001b[0;31mUnicodeDecodeError\u001b[0m: 'utf-8' codec can't decode byte 0x89 in position 0: invalid start byte"
     ]
    }
   ],
   "source": [
    "get_email_csv()"
   ]
  },
  {
   "cell_type": "code",
   "execution_count": 5,
   "metadata": {},
   "outputs": [
    {
     "name": "stdout",
     "output_type": "stream",
     "text": [
      "NOT JOB EMAIL\n",
      "NOT JOB EMAIL\n",
      "NOT JOB EMAIL\n",
      "NOT JOB EMAIL\n",
      "NOT JOB EMAIL\n"
     ]
    }
   ],
   "source": []
  },
  {
   "cell_type": "code",
   "execution_count": null,
   "metadata": {},
   "outputs": [],
   "source": []
  },
  {
   "cell_type": "code",
   "execution_count": 18,
   "metadata": {},
   "outputs": [],
   "source": []
  },
  {
   "cell_type": "code",
   "execution_count": null,
   "metadata": {},
   "outputs": [],
   "source": []
  }
 ],
 "metadata": {
  "kernelspec": {
   "display_name": "torchenv",
   "language": "python",
   "name": "python3"
  },
  "language_info": {
   "codemirror_mode": {
    "name": "ipython",
    "version": 3
   },
   "file_extension": ".py",
   "mimetype": "text/x-python",
   "name": "python",
   "nbconvert_exporter": "python",
   "pygments_lexer": "ipython3",
   "version": "3.10.2"
  }
 },
 "nbformat": 4,
 "nbformat_minor": 2
}
