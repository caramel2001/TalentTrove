{
 "cells": [
  {
   "cell_type": "code",
   "execution_count": 1,
   "metadata": {},
   "outputs": [],
   "source": [
    "import requests\n",
    "import pprint\n",
    "import pandas as pd\n",
    "import imaplib\n",
    "import email"
   ]
  },
  {
   "cell_type": "markdown",
   "metadata": {},
   "source": [
    "## Gmail Client"
   ]
  },
  {
   "cell_type": "code",
   "execution_count": null,
   "metadata": {},
   "outputs": [],
   "source": [
    "import talenttrove.app.email.gmail \n",
    "import importlib\n",
    "importlib.reload(talenttrove.app.email.gmail)\n",
    "from talenttrove.app.email.gmail import Gmail\n",
    "from datetime import datetime,timedelta"
   ]
  },
  {
   "cell_type": "code",
   "execution_count": null,
   "metadata": {},
   "outputs": [],
   "source": [
    "username =\"agarwalpratham2001@gmail.com\"\n",
    "\n",
    "#generated app password\n",
    "app_password= \"lgjc xmxv ixyr nvxx\"\n",
    "client = Gmail(username, app_password)\n",
    "client.authenticate()"
   ]
  },
  {
   "cell_type": "code",
   "execution_count": null,
   "metadata": {},
   "outputs": [],
   "source": [
    "from_date = (datetime.now() - timedelta(days=1)).strftime(\"%d-%b-%Y\")  # 7 days ago\n",
    "to_date = (datetime.now()).strftime(\"%d-%b-%Y\")  # Today\n",
    "ids = client.get_email_by_date(from_date=from_date, to_date=to_date)\n",
    "data = client.parse_emails(ids)"
   ]
  },
  {
   "cell_type": "code",
   "execution_count": null,
   "metadata": {},
   "outputs": [],
   "source": [
    "data"
   ]
  },
  {
   "cell_type": "code",
   "execution_count": null,
   "metadata": {},
   "outputs": [],
   "source": [
    "client.close()"
   ]
  },
  {
   "cell_type": "code",
   "execution_count": 4,
   "metadata": {},
   "outputs": [
    {
     "name": "stdout",
     "output_type": "stream",
     "text": [
      "{'_fbp': 'fb.1.1694943938226.514835020', 'user.id': 'eyJfcmFpbHMiOnsibWVzc2FnZSI6Ik16ZzJNRFE9IiwiZXhwIjpudWxsLCJwdXIiOiJjb29raWUudXNlci5pZCJ9fQ%3D%3D--52ae7b5f23c3b774776a63e18d12439744528751', '_hjSessionUser_1996783': 'eyJpZCI6Ijc0Nzk0Y2UwLWE4MTUtNWVhOC1iMDAxLTg1NmQyYTU2OWVjZCIsImNyZWF0ZWQiOjE2OTQ5NDQwMTE0MjksImV4aXN0aW5nIjp0cnVlfQ==', '_lr_uf_-hoyxj9': '97d909d9-820b-4748-8581-51a0150e803c', 'cf_clearance': '1JdAojjrH24mBydTklwvkNCkvMW_TEeHXVruiwvzVNk-1698335115-0-1-8d575e66.bf525c38.9e655532-0.2.1698335115', '_gid': 'GA1.2.81857122.1698950063', '_clck': '3ufgbw|2|fgd|0|1401', '_nodeflair_session': 'OpulPfGJaUc5P%2FlHc22xhosZ74uQ4yVn6uS9r46Ze6wQJfmjMVi7GVMHlr0kEC40tM6oKcePNfyXjNAT9TUs3HvC5u%2FXGatXsdxtpEusAxcYsgugsMs1B9Q4zmmnDssT%2FLH6lSzFrPPVrtjvuuz2W2DTBUD3QRPbRz0CguFazVgauziinHqpkENSZ%2FvQZSFlWdqQ75SzJIT4o1bOv7xrNqnfWL3%2BKVw7VhQqUDKwkg4WVBGFLoRIONZr07bLeYhvf1mWpDQeGSHdrcYn11WofF74TYwnhp4KsXmUpjTbD08rqJg4XHT9U6U1XkxeWtRVAF2U9QfCzR%2BfkbO%2B3vXS2wSVdxoqzwsFSd1iLJIS7jhVWEU8MU9okIoaYuxBFKEsJ6AQD%2FEkH255neft1ky6H0Mty5rZ0jbUFGH%2F2BWo5AXzaUXb06FmRY0QBSGotNJlvk24p6EK%2FfYuo%2FXXX15thL1t3fKihUlWJX%2Bu1BXvp9teAlR4oUDFpIbJ6wQzaE7mXuTP%2BkeLlWSneGSCKv62Dl6nZblk%2BQ%3D%3D--4TSWdyc8cWtdbDFc--CawJg%2FQI0xpLP%2FWETZwagg%3D%3D', '_ga': 'GA1.1.334756147.1694943938', '_clsk': 'ob347i|1698950106840|6|1|y.clarity.ms/collect', '_ga_0D09HRRGVH': 'GS1.1.1698950063.11.1.1698950110.13.0.0', '_hjIncludedInSessionSample_1996783': '0', '_hjSession_1996783': 'eyJpZCI6IjY2Y2YyYThjLTVlMzgtNDI4OS04NWE1LWRkNWRiYmZjMjc4OSIsImNyZWF0ZWQiOjE2OTg5NTAxMzc4NzYsImluU2FtcGxlIjpmYWxzZSwic2Vzc2lvbml6ZXJCZXRhRW5hYmxlZCI6dHJ1ZX0='}\n"
     ]
    }
   ],
   "source": [
    "import http.cookies\n",
    "cookie_str=\"\"\"_fbp=fb.1.1694943938226.514835020; user.id=eyJfcmFpbHMiOnsibWVzc2FnZSI6Ik16ZzJNRFE9IiwiZXhwIjpudWxsLCJwdXIiOiJjb29raWUudXNlci5pZCJ9fQ%3D%3D--52ae7b5f23c3b774776a63e18d12439744528751; _hjSessionUser_1996783=eyJpZCI6Ijc0Nzk0Y2UwLWE4MTUtNWVhOC1iMDAxLTg1NmQyYTU2OWVjZCIsImNyZWF0ZWQiOjE2OTQ5NDQwMTE0MjksImV4aXN0aW5nIjp0cnVlfQ==; _lr_uf_-hoyxj9=97d909d9-820b-4748-8581-51a0150e803c; cf_clearance=1JdAojjrH24mBydTklwvkNCkvMW_TEeHXVruiwvzVNk-1698335115-0-1-8d575e66.bf525c38.9e655532-0.2.1698335115; _gid=GA1.2.81857122.1698950063; _clck=3ufgbw|2|fgd|0|1401; _nodeflair_session=OpulPfGJaUc5P%2FlHc22xhosZ74uQ4yVn6uS9r46Ze6wQJfmjMVi7GVMHlr0kEC40tM6oKcePNfyXjNAT9TUs3HvC5u%2FXGatXsdxtpEusAxcYsgugsMs1B9Q4zmmnDssT%2FLH6lSzFrPPVrtjvuuz2W2DTBUD3QRPbRz0CguFazVgauziinHqpkENSZ%2FvQZSFlWdqQ75SzJIT4o1bOv7xrNqnfWL3%2BKVw7VhQqUDKwkg4WVBGFLoRIONZr07bLeYhvf1mWpDQeGSHdrcYn11WofF74TYwnhp4KsXmUpjTbD08rqJg4XHT9U6U1XkxeWtRVAF2U9QfCzR%2BfkbO%2B3vXS2wSVdxoqzwsFSd1iLJIS7jhVWEU8MU9okIoaYuxBFKEsJ6AQD%2FEkH255neft1ky6H0Mty5rZ0jbUFGH%2F2BWo5AXzaUXb06FmRY0QBSGotNJlvk24p6EK%2FfYuo%2FXXX15thL1t3fKihUlWJX%2Bu1BXvp9teAlR4oUDFpIbJ6wQzaE7mXuTP%2BkeLlWSneGSCKv62Dl6nZblk%2BQ%3D%3D--4TSWdyc8cWtdbDFc--CawJg%2FQI0xpLP%2FWETZwagg%3D%3D; _ga=GA1.1.334756147.1694943938; _clsk=ob347i|1698950106840|6|1|y.clarity.ms/collect; _ga_0D09HRRGVH=GS1.1.1698950063.11.1.1698950110.13.0.0; _hjIncludedInSessionSample_1996783=0; _hjSession_1996783=eyJpZCI6IjY2Y2YyYThjLTVlMzgtNDI4OS04NWE1LWRkNWRiYmZjMjc4OSIsImNyZWF0ZWQiOjE2OTg5NTAxMzc4NzYsImluU2FtcGxlIjpmYWxzZSwic2Vzc2lvbml6ZXJCZXRhRW5hYmxlZCI6dHJ1ZX0=\"\"\"\n",
    "cookie = http.cookies.SimpleCookie()\n",
    "cookie.load(cookie_str)\n",
    "cookie_dict = {k: v.value for k, v in cookie.items()}\n",
    "print(cookie_dict)"
   ]
  },
  {
   "cell_type": "code",
   "execution_count": 10,
   "metadata": {},
   "outputs": [],
   "source": [
    "headers = {\n",
    "    \"user-agent\": \"Mozilla/5.0\",\n",
    "    # \"sec-fetch-mode\": \"cors\",\n",
    "    # # \"If-None-Match\": 'W/\"1297c0623cd0e995397a9f6796e346c4\"',\n",
    "    # \"sec-ch-ua-mobile\": \"?0\",\n",
    "    # \"sec-ch-ua-platform\": \"macOS\",\n",
    "    # \"sec-fetch-dest\": \"empty\",\n",
    "\n",
    "}\n",
    "params={\n",
    "    \"query\": None,\n",
    "    \"page\": 2,\n",
    "    \"sort_by\": \"recent\",\n",
    "    \"countries[]\": \"Singapore\",\n",
    "}\n",
    "response = requests.get('https://nodeflair.com/api/v2/jobs',headers=headers,params=params)"
   ]
  },
  {
   "cell_type": "code",
   "execution_count": 11,
   "metadata": {},
   "outputs": [
    {
     "data": {
      "text/plain": [
       "403"
      ]
     },
     "execution_count": 11,
     "metadata": {},
     "output_type": "execute_result"
    }
   ],
   "source": [
    "response.status_code"
   ]
  },
  {
   "cell_type": "code",
   "execution_count": 15,
   "metadata": {},
   "outputs": [],
   "source": [
    "response = requests.get('https://nodeflair.com/api/v2/jobs/172520',headers=headers,cookies=cookie_dict)"
   ]
  },
  {
   "cell_type": "code",
   "execution_count": null,
   "metadata": {},
   "outputs": [],
   "source": [
    "response = requests.get(\"https://api.simplify.jobs/v2/job-list/\",headers=headers)"
   ]
  },
  {
   "cell_type": "code",
   "execution_count": 16,
   "metadata": {},
   "outputs": [
    {
     "data": {
      "text/plain": [
       "<Response [403]>"
      ]
     },
     "execution_count": 16,
     "metadata": {},
     "output_type": "execute_result"
    }
   ],
   "source": [
    "response"
   ]
  },
  {
   "cell_type": "code",
   "execution_count": null,
   "metadata": {},
   "outputs": [],
   "source": [
    "tech_response = requests.get(\"https://api.simplify.jobs/v2/company/?page=1&size=100&value=&workflow_completed=true\",headers=headers,cookies=cookie_dict)"
   ]
  },
  {
   "cell_type": "code",
   "execution_count": null,
   "metadata": {},
   "outputs": [],
   "source": [
    "tech_response.json()"
   ]
  },
  {
   "cell_type": "code",
   "execution_count": null,
   "metadata": {},
   "outputs": [],
   "source": [
    "from talenttrove.scrapers.utils import HEADERS\n",
    "import urllib\n",
    "# TECH_COMPANIES = \"https://nodeflair.com/blog/top-tech-companies-in-singapore\"\n",
    "# response = urllib3.(TECH_COMPANIES,headers=HEADERS,cookies=cookie_dict)"
   ]
  },
  {
   "cell_type": "code",
   "execution_count": null,
   "metadata": {},
   "outputs": [],
   "source": [
    "response = urllib.request.urlopen(TECH_COMPANIES)"
   ]
  },
  {
   "cell_type": "markdown",
   "metadata": {},
   "source": [
    "## Shortlisting Companies\n",
    "\n",
    "- https://www.timesbusinessdirectory.com/company-listings?page=9\n",
    "- https://www.kaggle.com/datasets/peopledatalabssf/free-7-million-company-dataset\n",
    "- https://beta.data.gov.sg/collections/2/view"
   ]
  },
  {
   "cell_type": "code",
   "execution_count": null,
   "metadata": {},
   "outputs": [],
   "source": [
    "company_df = pd.read_csv(\"output/companies_sorted.csv\")"
   ]
  },
  {
   "cell_type": "code",
   "execution_count": null,
   "metadata": {},
   "outputs": [],
   "source": [
    "company_df=company_df[company_df['industry'] == 'information technology and services']\n",
    "company_df = company_df[~company_df['size range'].isin(['1 - 10','11 - 50','51 - 200'])]\n",
    "company_df.drop(columns=['Unnamed: 0','locality']).reset_index(drop=True).to_csv('talenttrove/data/companies/tech_companies.csv')"
   ]
  },
  {
   "cell_type": "code",
   "execution_count": null,
   "metadata": {},
   "outputs": [],
   "source": [
    "import importlib\n",
    "import talenttrove.scrapers.datagov\n",
    "importlib.reload(talenttrove.scrapers.datagov)\n",
    "from talenttrove.scrapers.datagov import DataGovCollection"
   ]
  },
  {
   "cell_type": "code",
   "execution_count": null,
   "metadata": {},
   "outputs": [],
   "source": [
    "collection = DataGovCollection(2)"
   ]
  },
  {
   "cell_type": "code",
   "execution_count": null,
   "metadata": {},
   "outputs": [],
   "source": [
    "sing_data = collection.collect()"
   ]
  },
  {
   "cell_type": "code",
   "execution_count": null,
   "metadata": {},
   "outputs": [],
   "source": [
    "filter_data = collection.filter(sing_data)"
   ]
  },
  {
   "cell_type": "code",
   "execution_count": null,
   "metadata": {},
   "outputs": [],
   "source": [
    "filter_data.shape"
   ]
  },
  {
   "cell_type": "code",
   "execution_count": null,
   "metadata": {},
   "outputs": [],
   "source": [
    "filter_data.to_csv('talenttrove/data/companies/singapore_companies.csv',index=False)"
   ]
  },
  {
   "cell_type": "markdown",
   "metadata": {},
   "source": [
    "## Glassdoor"
   ]
  },
  {
   "cell_type": "code",
   "execution_count": null,
   "metadata": {},
   "outputs": [],
   "source": [
    "params=[\n",
    "    {\n",
    "        \"operationName\": \"JobSearchResultsQuery\",\n",
    "        \"variables\": {\n",
    "            \"excludeJobListingIds\": [],\n",
    "            \"filterParams\": [\n",
    "                {\n",
    "                    \"filterKey\": \"fromAge\",\n",
    "                    \"values\": \"1\"\n",
    "                }\n",
    "            ],\n",
    "            \"keyword\": \"\",\n",
    "            \"locationId\": 3235921,\n",
    "            \"locationType\": \"CITY\",\n",
    "            \"numJobsToShow\": 20,\n",
    "            \"originalPageUrl\": \"https://www.glassdoor.sg/Job/singapore-singapore-jobs-SRCH_IL.0,19_IC3235921.htm\",\n",
    "            \"parameterUrlInput\": \"IL.0,19_IC3235921\",\n",
    "            \"seoFriendlyUrlInput\": \"singapore-singapore-jobs\",\n",
    "            \"seoUrl\": True\n",
    "        },\n",
    "        \"query\": \"query JobSearchResultsQuery($excludeJobListingIds: [Long!], $keyword: String, $locationId: Int, $locationType: LocationTypeEnum, $numJobsToShow: Int!, $pageCursor: String, $pageNumber: Int, $filterParams: [FilterParams], $originalPageUrl: String, $seoFriendlyUrlInput: String, $parameterUrlInput: String, $seoUrl: Boolean) {\\n  jobListings(\\n    contextHolder: {searchParams: {excludeJobListingIds: $excludeJobListingIds, keyword: $keyword, locationId: $locationId, locationType: $locationType, numPerPage: $numJobsToShow, pageCursor: $pageCursor, pageNumber: $pageNumber, filterParams: $filterParams, originalPageUrl: $originalPageUrl, seoFriendlyUrlInput: $seoFriendlyUrlInput, parameterUrlInput: $parameterUrlInput, seoUrl: $seoUrl, searchType: SR}}\\n  ) {\\n    filterOptions\\n    indeedCtk\\n    jobListings {\\n      ...JobView\\n      __typename\\n    }\\n    jobListingSeoLinks {\\n      linkItems {\\n        position\\n        url\\n        __typename\\n      }\\n      __typename\\n    }\\n    jobSearchTrackingKey\\n    jobsPageSeoData {\\n      pageMetaDescription\\n      pageTitle\\n      __typename\\n    }\\n    paginationCursors {\\n      cursor\\n      pageNumber\\n      __typename\\n    }\\n    indexablePageForSeo\\n    searchResultsMetadata {\\n      searchCriteria {\\n        implicitLocation {\\n          id\\n          localizedDisplayName\\n          type\\n          __typename\\n        }\\n        keyword\\n        location {\\n          id\\n          shortName\\n          localizedShortName\\n          localizedDisplayName\\n          type\\n          __typename\\n        }\\n        __typename\\n      }\\n      footerVO {\\n        countryMenu {\\n          childNavigationLinks {\\n            id\\n            link\\n            textKey\\n            __typename\\n          }\\n          __typename\\n        }\\n        __typename\\n      }\\n      helpCenterDomain\\n      helpCenterLocale\\n      jobAlert {\\n        jobAlertExists\\n        __typename\\n      }\\n      jobSerpFaq {\\n        questions {\\n          answer\\n          question\\n          __typename\\n        }\\n        __typename\\n      }\\n      jobSerpJobOutlook {\\n        occupation\\n        paragraph\\n        __typename\\n      }\\n      showMachineReadableJobs\\n      __typename\\n    }\\n    serpSeoLinksVO {\\n      relatedJobTitlesResults\\n      searchedJobTitle\\n      searchedKeyword\\n      searchedLocationIdAsString\\n      searchedLocationSeoName\\n      searchedLocationType\\n      topCityIdsToNameResults {\\n        key\\n        value\\n        __typename\\n      }\\n      topEmployerIdsToNameResults {\\n        key\\n        value\\n        __typename\\n      }\\n      topEmployerNameResults\\n      topOccupationResults\\n      __typename\\n    }\\n    totalJobsCount\\n    __typename\\n  }\\n}\\n\\nfragment JobView on JobListingSearchResult {\\n  jobview {\\n    header {\\n      adOrderId\\n      advertiserType\\n      adOrderSponsorshipLevel\\n      ageInDays\\n      divisionEmployerName\\n      easyApply\\n      employer {\\n        id\\n        name\\n        shortName\\n        __typename\\n      }\\n      employerNameFromSearch\\n      goc\\n      gocConfidence\\n      gocId\\n      jobCountryId\\n      jobLink\\n      jobResultTrackingKey\\n      jobTitleText\\n      locationName\\n      needsCommission\\n      payCurrency\\n      payPeriod\\n      payPeriodAdjustedPay {\\n        p10\\n        p50\\n        p90\\n        __typename\\n      }\\n      rating\\n      salarySource\\n      savedJobId\\n      sponsored\\n      __typename\\n    }\\n    job {\\n      importConfigId\\n      jobTitleId\\n      jobTitleText\\n      listingId\\n      __typename\\n    }\\n    jobListingAdminDetails {\\n      cpcVal\\n      importConfigId\\n      jobListingId\\n      jobSourceId\\n      userEligibleForAdminJobDetails\\n      __typename\\n    }\\n    overview {\\n      shortName\\n      squareLogoUrl\\n      __typename\\n    }\\n    __typename\\n  }\\n  __typename\\n}\\n\"\n",
    "    }\n",
    "]\n",
    "response = requests.post(\"https://www.glassdoor.sg/graph\",headers=headers,json=params)"
   ]
  },
  {
   "cell_type": "code",
   "execution_count": null,
   "metadata": {},
   "outputs": [],
   "source": [
    "response.json()[0]['data']['jobListings']"
   ]
  },
  {
   "cell_type": "code",
   "execution_count": null,
   "metadata": {},
   "outputs": [],
   "source": [
    "import http.cookies\n",
    "cookie_str=\"\"\"__Host-next-auth.csrf-token=198a9ac7d0efdde2761843e0ea10914e75be964787da340ea260f59e878143fd%7Cba8f77fca901b492e38df515db01fb6a544373d922c64a4c602ebb9dc214a723; _ga=GA1.1.81457931.1696941213; __Secure-next-auth.callback-url=https%3A%2F%2Fwww.carbosjobs.com%2F; _ga_JVWQGY8Q4P=GS1.1.1696959406.2.1.1696959543.0.0.0; __Secure-next-auth.session-token=eyJhbGciOiJkaXIiLCJlbmMiOiJBMjU2R0NNIn0..O0NVbTcl0mPJLdu4.Mhtrnhe1gjYLBYzQOEw_CSTUR2qlOTY4ZNupz6V9uxRAQ_GOYYF8CG1-WVNe8vgDTQdKTb9woqFATtlJZ4_XspQHRQJuSjlUZNAu09mlIF9hD1I788ghDLomOqgTyaxbVp5POSDltT-8wPeqe7Y4773wOO4OAoXR5-LBUmUWy2L1g1eG8gJAbkDAp_D0rBBaLzoQk1iNZKMApNWtovxtF6jyw6XNoNOIaokIuPQJAbamD-oB.fI5ORt-lR8ytWMhbi8mFvw; ph_phc_c3EWoh5aCGLJ7aaRb2TkaJOCIGhGJ1AhLMMLR9GJyT8_posthog=%7B%22distinct_id%22%3A%22clnkbhoce0000jw08m32ejv45%22%2C%22%24device_id%22%3A%22018b1994-004d-7b0a-a554-92d0f8c1f935%22%2C%22%24user_state%22%3A%22identified%22%2C%22%24sesid%22%3A%5B1696959551540%2C%22018b1aa9-92eb-7578-aef2-47c19040fd55%22%2C1696959402729%5D%2C%22%24session_recording_enabled_server_side%22%3Atrue%2C%22%24console_log_recording_enabled_server_side%22%3Atrue%2C%22%24session_recording_recorder_version_server_side%22%3A%22v2%22%2C%22%24autocapture_disabled_server_side%22%3Afalse%2C%22%24active_feature_flags%22%3A%5B%5D%2C%22%24enabled_feature_flags%22%3A%7B%7D%2C%22%24feature_flag_payloads%22%3A%7B%7D%2C%22%24user_id%22%3A%22clnkbhoce0000jw08m32ejv45%22%2C%22%24stored_person_properties%22%3A%7B%22email%22%3A%22agarwalpratham2001%40gmail.com%22%2C%22name%22%3A%22Pratham%20Agarwala%22%7D%7D\"\"\"\n",
    "cookie = http.cookies.SimpleCookie()\n",
    "cookie.load(cookie_str)\n",
    "cookie_dict = {k: v.value for k, v in cookie.items()}\n",
    "print(cookie_dict)"
   ]
  },
  {
   "cell_type": "code",
   "execution_count": null,
   "metadata": {},
   "outputs": [],
   "source": [
    "response = requests.get(\"https://www.carbosjobs.com/api/job-postings/search?FTSQuery=%28%27new+graduate%27+%7C+%27new+grad%27+%7C+%27entry%27+%7C+%27junior%27+%7C+%27campus%27+%7C+%27early+career%27+%7C+%27university%27+%7C+%27college+grad%27+%7C+%27entry-level%27%29+%26+%28%27trading%27+%7C+%27quantitative%27+%7C+%27market%27+%7C+%27quant%27+%7C+%27trader%27%29+%26+%28%21%272023%27+%26+%21%27fall%27+%26+%21%27winter%27+%26+%21%27m%2Ff%2Fd%27+%26+%21%27senior%27+%26+%21%27intern%27+%26+%21%27internship%27+%26+%21%27internships%27+%26+%21%27data+entry%27%29&filterName=Quant+%26+Trading%2C+New+Grad+%28USA%29\",headers=headers,cookies=cookie_dict)"
   ]
  },
  {
   "cell_type": "code",
   "execution_count": null,
   "metadata": {},
   "outputs": [],
   "source": [
    "import json\n",
    "len(json.loads(response.json()))"
   ]
  },
  {
   "cell_type": "code",
   "execution_count": null,
   "metadata": {},
   "outputs": [],
   "source": [
    "https://www.google.com/search?q=google+jobs&oq=google+jobs&sourceid=chrome&ie=UTF-8&ibp=htl;jobs&sa=X&ved=2ahUKEwifttedluaBAxWpxDgGHdNwCRQQutcGKAF6BAgOEAY&sxsrf=AM9HkKlkNKxI2yk2kPylgS6nYtrhsl31Lg:1696758567924#htivxrt=jobs&fpstate=tldetail&htichips=date_posted:3days&htischips=date_posted;3days&htidocid=UbM2CbLbvu4OMmqWAAAAAA%3D%3D"
   ]
  },
  {
   "cell_type": "code",
   "execution_count": null,
   "metadata": {},
   "outputs": [],
   "source": [
    "https://www.linkedin.com/jobs/search/?f_C=1009%2C155134%2C9263339%2C3634137&geoId=92000000&origin=COMPANY_PAGE_JOBS_CLUSTER_EXPANSION&originToLandingJobPostings=3703127521%2C3693596011%2C3693593672%2C3727737691%2C3705389269%2C3705383975%2C3715841313%2C3705385738%2C3705649976&lipi=urn%3Ali%3Apage%3Acompanies_company_jobs_jobs%3Bb802d511-1d27-453d-a8d8-51463c7c7316"
   ]
  },
  {
   "cell_type": "markdown",
   "metadata": {},
   "source": [
    "## Carbos"
   ]
  },
  {
   "cell_type": "code",
   "execution_count": null,
   "metadata": {},
   "outputs": [],
   "source": [
    "import importlib\n",
    "import talenttrove.scrapers.carbos\n",
    "importlib.reload(talenttrove.scrapers.carbos)\n",
    "from talenttrove.scrapers.carbos import Carbos,ALL_ENGINEERING_GRAD,ALL_ENGINEERING_INTERNSHIPS,ALL_QUANT_TRADING_INTERNSHIPS,ALL_QUANT_TRADING_GRAD"
   ]
  },
  {
   "cell_type": "code",
   "execution_count": null,
   "metadata": {},
   "outputs": [],
   "source": [
    "cookie_str=\"\"\"__Host-next-auth.csrf-token=198a9ac7d0efdde2761843e0ea10914e75be964787da340ea260f59e878143fd%7Cba8f77fca901b492e38df515db01fb6a544373d922c64a4c602ebb9dc214a723; _ga=GA1.1.81457931.1696941213; __Secure-next-auth.callback-url=https%3A%2F%2Fwww.carbosjobs.com%2F; _ga_JVWQGY8Q4P=GS1.1.1696959406.2.1.1696959543.0.0.0; __Secure-next-auth.session-token=eyJhbGciOiJkaXIiLCJlbmMiOiJBMjU2R0NNIn0..O0NVbTcl0mPJLdu4.Mhtrnhe1gjYLBYzQOEw_CSTUR2qlOTY4ZNupz6V9uxRAQ_GOYYF8CG1-WVNe8vgDTQdKTb9woqFATtlJZ4_XspQHRQJuSjlUZNAu09mlIF9hD1I788ghDLomOqgTyaxbVp5POSDltT-8wPeqe7Y4773wOO4OAoXR5-LBUmUWy2L1g1eG8gJAbkDAp_D0rBBaLzoQk1iNZKMApNWtovxtF6jyw6XNoNOIaokIuPQJAbamD-oB.fI5ORt-lR8ytWMhbi8mFvw; ph_phc_c3EWoh5aCGLJ7aaRb2TkaJOCIGhGJ1AhLMMLR9GJyT8_posthog=%7B%22distinct_id%22%3A%22clnkbhoce0000jw08m32ejv45%22%2C%22%24device_id%22%3A%22018b1994-004d-7b0a-a554-92d0f8c1f935%22%2C%22%24user_state%22%3A%22identified%22%2C%22%24sesid%22%3A%5B1696959551540%2C%22018b1aa9-92eb-7578-aef2-47c19040fd55%22%2C1696959402729%5D%2C%22%24session_recording_enabled_server_side%22%3Atrue%2C%22%24console_log_recording_enabled_server_side%22%3Atrue%2C%22%24session_recording_recorder_version_server_side%22%3A%22v2%22%2C%22%24autocapture_disabled_server_side%22%3Afalse%2C%22%24active_feature_flags%22%3A%5B%5D%2C%22%24enabled_feature_flags%22%3A%7B%7D%2C%22%24feature_flag_payloads%22%3A%7B%7D%2C%22%24user_id%22%3A%22clnkbhoce0000jw08m32ejv45%22%2C%22%24stored_person_properties%22%3A%7B%22email%22%3A%22agarwalpratham2001%40gmail.com%22%2C%22name%22%3A%22Pratham%20Agarwala%22%7D%7D\"\"\"\n",
    "client = Carbos(cookie_str)"
   ]
  },
  {
   "cell_type": "code",
   "execution_count": null,
   "metadata": {},
   "outputs": [],
   "source": [
    "jobs_1 = client.collect(ALL_ENGINEERING_GRAD)\n",
    "jobs_1 = pd.DataFrame(jobs_1)\n",
    "jobs_2 = client.collect(ALL_ENGINEERING_INTERNSHIPS)\n",
    "jobs_2 = pd.DataFrame(jobs_2)\n",
    "jobs_3 = client.collect(ALL_QUANT_TRADING_INTERNSHIPS)\n",
    "jobs_3 = pd.DataFrame(jobs_3)\n",
    "jobs_4 = client.collect(ALL_QUANT_TRADING_GRAD)\n",
    "jobs_4 = pd.DataFrame(jobs_4)"
   ]
  },
  {
   "cell_type": "code",
   "execution_count": null,
   "metadata": {},
   "outputs": [],
   "source": [
    "pd.concat([jobs_1,jobs_2,jobs_3,jobs_4],axis=0).to_csv(\"talenttrove/data/jobs/carbos.csv\")"
   ]
  },
  {
   "cell_type": "markdown",
   "metadata": {},
   "source": [
    "## My CarrersFuture"
   ]
  },
  {
   "cell_type": "code",
   "execution_count": 22,
   "metadata": {},
   "outputs": [],
   "source": [
    "import importlib\n",
    "import talenttrove.scrapers.mycareersfuture\n",
    "importlib.reload(talenttrove.scrapers.mycareersfuture)\n",
    "from talenttrove.scrapers.mycareersfuture import MyCareersFuture"
   ]
  },
  {
   "cell_type": "code",
   "execution_count": 23,
   "metadata": {},
   "outputs": [],
   "source": [
    "client = MyCareersFuture()"
   ]
  },
  {
   "cell_type": "code",
   "execution_count": 24,
   "metadata": {},
   "outputs": [
    {
     "name": "stdout",
     "output_type": "stream",
     "text": [
      "Total pages 70\n"
     ]
    },
    {
     "name": "stderr",
     "output_type": "stream",
     "text": [
      "100%|██████████| 69/69 [02:55<00:00,  2.54s/it]"
     ]
    },
    {
     "name": "stdout",
     "output_type": "stream",
     "text": [
      "Extracted 6938 jobs\n"
     ]
    },
    {
     "name": "stderr",
     "output_type": "stream",
     "text": [
      "\n"
     ]
    }
   ],
   "source": [
    "data = client.collect(sleep_time=2)"
   ]
  },
  {
   "cell_type": "code",
   "execution_count": 35,
   "metadata": {},
   "outputs": [
    {
     "name": "stderr",
     "output_type": "stream",
     "text": [
      "  0%|          | 0/838 [00:00<?, ?it/s]"
     ]
    },
    {
     "name": "stderr",
     "output_type": "stream",
     "text": [
      "100%|██████████| 838/838 [06:09<00:00,  2.27it/s]\n"
     ]
    }
   ],
   "source": [
    "from tqdm import tqdm\n",
    "import time\n",
    "count=0\n",
    "for i in tqdm(data[6100:]):\n",
    "    id = i['uuid']\n",
    "    response = client.get_job_data(id)\n",
    "    i['job_data'] = response\n",
    "    count+=1\n",
    "    if count%30==0:\n",
    "        time.sleep(10)\n"
   ]
  },
  {
   "cell_type": "code",
   "execution_count": 44,
   "metadata": {},
   "outputs": [],
   "source": [
    "pd.json_normalize(pd.DataFrame(data)['job_data'],max_level=0).to_json(\"talenttrove/data/jobs/mycareersfuture_with_descriptions.json\",orient=\"records\")"
   ]
  },
  {
   "cell_type": "code",
   "execution_count": 17,
   "metadata": {},
   "outputs": [],
   "source": [
    "data = pd.read_json(\"talenttrove/data/jobs/mycareersfuture.json\",orient=\"records\")"
   ]
  },
  {
   "cell_type": "markdown",
   "metadata": {},
   "source": [
    "## Simplify Company and Job Scraper"
   ]
  },
  {
   "cell_type": "code",
   "execution_count": 73,
   "metadata": {},
   "outputs": [],
   "source": [
    "import importlib\n",
    "import talenttrove.scrapers.simplifyJobs\n",
    "importlib.reload(talenttrove.scrapers.simplifyJobs)\n",
    "from talenttrove.scrapers.simplifyJobs import SimplifyJobs"
   ]
  },
  {
   "cell_type": "code",
   "execution_count": 69,
   "metadata": {},
   "outputs": [],
   "source": [
    "from talenttrove.scrapers.utils import HEADERS"
   ]
  },
  {
   "cell_type": "code",
   "execution_count": 71,
   "metadata": {},
   "outputs": [],
   "source": [
    "response=requests.get(url=f\"https://api.simplify.jobs/v2/company?size=100&page=1\",headers=HEADERS)"
   ]
  },
  {
   "cell_type": "code",
   "execution_count": 72,
   "metadata": {},
   "outputs": [
    {
     "data": {
      "text/plain": [
       "<Response [200]>"
      ]
     },
     "execution_count": 72,
     "metadata": {},
     "output_type": "execute_result"
    }
   ],
   "source": [
    "response"
   ]
  },
  {
   "cell_type": "code",
   "execution_count": 67,
   "metadata": {},
   "outputs": [
    {
     "data": {
      "text/plain": [
       "95"
      ]
     },
     "execution_count": 67,
     "metadata": {},
     "output_type": "execute_result"
    }
   ],
   "source": [
    "response.json().get('pages',0)"
   ]
  },
  {
   "cell_type": "code",
   "execution_count": 74,
   "metadata": {},
   "outputs": [
    {
     "name": "stdout",
     "output_type": "stream",
     "text": [
      "Scraping next page: 2\n",
      "Scraping next page: 3\n",
      "Scraping next page: 4\n",
      "Scraping next page: 5\n",
      "Scraping next page: 6\n",
      "Scraping next page: 7\n",
      "Scraping next page: 8\n",
      "Scraping next page: 9\n",
      "Scraping next page: 10\n",
      "Scraping next page: 11\n",
      "Scraping next page: 12\n",
      "Scraping next page: 13\n",
      "Scraping next page: 14\n",
      "Scraping next page: 15\n",
      "Scraping next page: 16\n",
      "Scraping next page: 17\n",
      "Scraping next page: 18\n",
      "Scraping next page: 19\n",
      "Scraping next page: 20\n",
      "Scraping next page: 21\n",
      "Scraping next page: 22\n",
      "Scraping next page: 23\n",
      "Scraping next page: 24\n",
      "Scraping next page: 25\n",
      "Scraping next page: 26\n",
      "Scraping next page: 27\n",
      "Scraping next page: 28\n",
      "Scraping next page: 29\n",
      "Scraping next page: 30\n",
      "Scraping next page: 31\n",
      "Scraping next page: 32\n",
      "Scraping next page: 33\n",
      "Scraping next page: 34\n",
      "Scraping next page: 35\n",
      "Scraping next page: 36\n",
      "Scraping next page: 37\n",
      "Scraping next page: 38\n",
      "Scraping next page: 39\n",
      "Scraping next page: 40\n",
      "Scraping next page: 41\n",
      "Scraping next page: 42\n",
      "Scraping next page: 43\n",
      "Scraping next page: 44\n",
      "Scraping next page: 45\n",
      "Scraping next page: 46\n",
      "Scraping next page: 47\n",
      "Scraping next page: 48\n",
      "Scraping next page: 49\n",
      "Scraping next page: 50\n",
      "Scraping next page: 51\n",
      "Scraping next page: 52\n",
      "Scraping next page: 53\n",
      "Scraping next page: 54\n",
      "Scraping next page: 55\n",
      "Scraping next page: 56\n",
      "Scraping next page: 57\n",
      "Scraping next page: 58\n",
      "Scraping next page: 59\n",
      "Scraping next page: 60\n",
      "Scraping next page: 61\n",
      "Scraping next page: 62\n",
      "Scraping next page: 63\n",
      "Scraping next page: 64\n",
      "Scraping next page: 65\n",
      "Scraping next page: 66\n",
      "Scraping next page: 67\n",
      "Scraping next page: 68\n",
      "Scraping next page: 69\n",
      "Scraping next page: 70\n",
      "Scraping next page: 71\n",
      "Scraping next page: 72\n",
      "Scraping next page: 73\n",
      "Scraping next page: 74\n",
      "Scraping next page: 75\n",
      "Scraping next page: 76\n",
      "Scraping next page: 77\n",
      "Scraping next page: 78\n",
      "Scraping next page: 79\n",
      "Scraping next page: 80\n",
      "Scraping next page: 81\n",
      "Scraping next page: 82\n",
      "Scraping next page: 83\n",
      "Scraping next page: 84\n",
      "Scraping next page: 85\n",
      "Scraping next page: 86\n",
      "Scraping next page: 87\n",
      "Scraping next page: 88\n",
      "Scraping next page: 89\n",
      "Scraping next page: 90\n",
      "Scraping next page: 91\n",
      "Scraping next page: 92\n",
      "Scraping next page: 93\n",
      "Scraping next page: 94\n",
      "Scraping next page: 95\n"
     ]
    }
   ],
   "source": [
    "client= SimplifyJobs(sleep_time=2)\n",
    "companies = client.collect()"
   ]
  },
  {
   "cell_type": "code",
   "execution_count": 78,
   "metadata": {},
   "outputs": [],
   "source": [
    "pd.json_normalize(companies).to_csv(\"talenttrove/data/jobs/simplify_companies.csv\")"
   ]
  },
  {
   "cell_type": "markdown",
   "metadata": {},
   "source": [
    "## Techjob Repo Scrapper\n",
    "- https://techjobrepo.com/"
   ]
  },
  {
   "cell_type": "code",
   "execution_count": 83,
   "metadata": {},
   "outputs": [],
   "source": [
    "import importlib\n",
    "import talenttrove.scrapers.techjobrepo\n",
    "importlib.reload(talenttrove.scrapers.techjobrepo)\n",
    "from talenttrove.scrapers.techjobrepo import TechJobRepo"
   ]
  },
  {
   "cell_type": "code",
   "execution_count": 84,
   "metadata": {},
   "outputs": [
    {
     "name": "stdout",
     "output_type": "stream",
     "text": [
      "Extracted 438 jobs\n"
     ]
    }
   ],
   "source": [
    "client= TechJobRepo()\n",
    "jobs = client.collect()"
   ]
  },
  {
   "cell_type": "code",
   "execution_count": 85,
   "metadata": {},
   "outputs": [],
   "source": [
    "import pandas as pd"
   ]
  },
  {
   "cell_type": "code",
   "execution_count": 86,
   "metadata": {},
   "outputs": [],
   "source": [
    "pd.json_normalize(jobs).to_csv(\"talenttrove/data/techjobrepo.csv\",index=False)"
   ]
  },
  {
   "cell_type": "markdown",
   "metadata": {},
   "source": [
    "## DB"
   ]
  },
  {
   "cell_type": "code",
   "execution_count": 1,
   "metadata": {},
   "outputs": [
    {
     "data": {
      "text/plain": [
       "<module 'talenttrove.app.db.sqlite' from '/Users/pratham/Desktop/trademaster/TalentTrove/talenttrove/app/db/sqlite.py'>"
      ]
     },
     "execution_count": 1,
     "metadata": {},
     "output_type": "execute_result"
    }
   ],
   "source": [
    "import talenttrove.app.db.sqlite\n",
    "import importlib\n",
    "importlib.reload(talenttrove.app.db.sqlite)"
   ]
  },
  {
   "cell_type": "code",
   "execution_count": 2,
   "metadata": {},
   "outputs": [],
   "source": [
    "from talenttrove.app.db.sqlite import Database"
   ]
  },
  {
   "cell_type": "code",
   "execution_count": 3,
   "metadata": {},
   "outputs": [
    {
     "name": "stdout",
     "output_type": "stream",
     "text": [
      "x\n"
     ]
    }
   ],
   "source": [
    "db = Database()"
   ]
  }
 ],
 "metadata": {
  "kernelspec": {
   "display_name": ".venv",
   "language": "python",
   "name": "python3"
  },
  "language_info": {
   "codemirror_mode": {
    "name": "ipython",
    "version": 3
   },
   "file_extension": ".py",
   "mimetype": "text/x-python",
   "name": "python",
   "nbconvert_exporter": "python",
   "pygments_lexer": "ipython3",
   "version": "3.8.12"
  },
  "orig_nbformat": 4
 },
 "nbformat": 4,
 "nbformat_minor": 2
}
