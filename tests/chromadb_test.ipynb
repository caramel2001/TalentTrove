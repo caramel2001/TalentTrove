{
 "cells": [
  {
   "cell_type": "code",
   "execution_count": 1,
   "metadata": {},
   "outputs": [],
   "source": [
    "import pandas as pd\n",
    "import chromadb\n",
    "import random\n",
    "from langchain.text_splitter import RecursiveCharacterTextSplitter"
   ]
  },
  {
   "cell_type": "markdown",
   "metadata": {},
   "source": [
    "Saving JDs"
   ]
  },
  {
   "cell_type": "code",
   "execution_count": 17,
   "metadata": {},
   "outputs": [
    {
     "data": {
      "text/html": [
       "<div>\n",
       "<style scoped>\n",
       "    .dataframe tbody tr th:only-of-type {\n",
       "        vertical-align: middle;\n",
       "    }\n",
       "\n",
       "    .dataframe tbody tr th {\n",
       "        vertical-align: top;\n",
       "    }\n",
       "\n",
       "    .dataframe thead th {\n",
       "        text-align: right;\n",
       "    }\n",
       "</style>\n",
       "<table border=\"1\" class=\"dataframe\">\n",
       "  <thead>\n",
       "    <tr style=\"text-align: right;\">\n",
       "      <th></th>\n",
       "      <th>company_name</th>\n",
       "      <th>company_url</th>\n",
       "      <th>company_logo</th>\n",
       "      <th>uen</th>\n",
       "      <th>employeeCount</th>\n",
       "      <th>positionLevels</th>\n",
       "      <th>skills</th>\n",
       "      <th>employmentTypes</th>\n",
       "      <th>status</th>\n",
       "      <th>updatedAt</th>\n",
       "      <th>jobPostId</th>\n",
       "      <th>title</th>\n",
       "      <th>salary_min</th>\n",
       "      <th>salary_max</th>\n",
       "      <th>salary_type</th>\n",
       "      <th>description</th>\n",
       "    </tr>\n",
       "  </thead>\n",
       "  <tbody>\n",
       "    <tr>\n",
       "      <th>0</th>\n",
       "      <td>MINDFLEX EDUCATION PTE. LTD.</td>\n",
       "      <td>https://singaporetuitionteachers.com</td>\n",
       "      <td>https://static.mycareersfuture.gov.sg/images/c...</td>\n",
       "      <td>202206896K</td>\n",
       "      <td>NaN</td>\n",
       "      <td>[Fresh/entry level]</td>\n",
       "      <td>[Microsoft PowerPoint, Microsoft Office, Micro...</td>\n",
       "      <td>[Contract, Flexi-work, Freelance, Full Time, I...</td>\n",
       "      <td>Open</td>\n",
       "      <td>2023-10-26T10:14:11.000Z</td>\n",
       "      <td>MCF-2023-0817909</td>\n",
       "      <td>Tuition Coordinator - Admin Support &amp; Sales</td>\n",
       "      <td>3700</td>\n",
       "      <td>2500</td>\n",
       "      <td>Monthly</td>\n",
       "      <td>Find Out Even More At: https://tinyurl.com/min...</td>\n",
       "    </tr>\n",
       "    <tr>\n",
       "      <th>1</th>\n",
       "      <td>SATS FOOD SERVICES PTE. LTD.</td>\n",
       "      <td>None</td>\n",
       "      <td>None</td>\n",
       "      <td>197300678G</td>\n",
       "      <td>NaN</td>\n",
       "      <td>[Fresh/entry level]</td>\n",
       "      <td>[Tape, Television, Microsoft Excel, Advertisin...</td>\n",
       "      <td>[Permanent, Full Time]</td>\n",
       "      <td>Re-open</td>\n",
       "      <td>2023-10-16T12:53:17.000Z</td>\n",
       "      <td>MCF-2023-0693756</td>\n",
       "      <td>Auction Assistant</td>\n",
       "      <td>2263</td>\n",
       "      <td>1518</td>\n",
       "      <td>Monthly</td>\n",
       "      <td>Job Description:\\n\\nYour scope requires you to...</td>\n",
       "    </tr>\n",
       "    <tr>\n",
       "      <th>2</th>\n",
       "      <td>EQUIP GLOBAL PTE. LTD.</td>\n",
       "      <td>None</td>\n",
       "      <td>https://static.mycareersfuture.gov.sg/images/c...</td>\n",
       "      <td>201306854R</td>\n",
       "      <td>NaN</td>\n",
       "      <td>[Fresh/entry level]</td>\n",
       "      <td>[Market Research, Ability to Multitask, Manage...</td>\n",
       "      <td>[Permanent, Full Time]</td>\n",
       "      <td>Open</td>\n",
       "      <td>2023-10-11T14:26:08.000Z</td>\n",
       "      <td>MCF-2023-0761746</td>\n",
       "      <td>Event Planner</td>\n",
       "      <td>3200</td>\n",
       "      <td>3100</td>\n",
       "      <td>Monthly</td>\n",
       "      <td>The Event Planner (Conference Producer) is cri...</td>\n",
       "    </tr>\n",
       "    <tr>\n",
       "      <th>3</th>\n",
       "      <td>INITIA MANAGEMENT PTE. LTD.</td>\n",
       "      <td>None</td>\n",
       "      <td>None</td>\n",
       "      <td>202102387G</td>\n",
       "      <td>NaN</td>\n",
       "      <td>[Fresh/entry level]</td>\n",
       "      <td>[Recipes, Lifestyle, Ingredients, Food Safety,...</td>\n",
       "      <td>[Permanent, Full Time]</td>\n",
       "      <td>Re-open</td>\n",
       "      <td>2023-10-17T10:09:50.000Z</td>\n",
       "      <td>MCF-2023-0653055</td>\n",
       "      <td>Kitchen Assistant</td>\n",
       "      <td>2700</td>\n",
       "      <td>1800</td>\n",
       "      <td>Monthly</td>\n",
       "      <td>Responsibilities\\n\\nEnsure all food and other ...</td>\n",
       "    </tr>\n",
       "    <tr>\n",
       "      <th>4</th>\n",
       "      <td>RECRUIT EXPRESS PTE LTD</td>\n",
       "      <td>https://www.recruitexpress.com.sg/</td>\n",
       "      <td>https://static.mycareersfuture.gov.sg/images/c...</td>\n",
       "      <td>199601303W</td>\n",
       "      <td>NaN</td>\n",
       "      <td>[Fresh/entry level]</td>\n",
       "      <td>[Microsoft Office, Microsoft Excel, Handle cal...</td>\n",
       "      <td>[Contract, Part Time, Permanent, Full Time]</td>\n",
       "      <td>Open</td>\n",
       "      <td>2023-10-21T18:40:52.000Z</td>\n",
       "      <td>MCF-2023-0804957</td>\n",
       "      <td>Call Centre Support Officer / Customer Service...</td>\n",
       "      <td>2500</td>\n",
       "      <td>1500</td>\n",
       "      <td>Monthly</td>\n",
       "      <td>Job Description:\\n\\nTo receive and make inboun...</td>\n",
       "    </tr>\n",
       "  </tbody>\n",
       "</table>\n",
       "</div>"
      ],
      "text/plain": [
       "                   company_name                           company_url  \\\n",
       "0  MINDFLEX EDUCATION PTE. LTD.  https://singaporetuitionteachers.com   \n",
       "1  SATS FOOD SERVICES PTE. LTD.                                  None   \n",
       "2        EQUIP GLOBAL PTE. LTD.                                  None   \n",
       "3   INITIA MANAGEMENT PTE. LTD.                                  None   \n",
       "4       RECRUIT EXPRESS PTE LTD    https://www.recruitexpress.com.sg/   \n",
       "\n",
       "                                        company_logo         uen  \\\n",
       "0  https://static.mycareersfuture.gov.sg/images/c...  202206896K   \n",
       "1                                               None  197300678G   \n",
       "2  https://static.mycareersfuture.gov.sg/images/c...  201306854R   \n",
       "3                                               None  202102387G   \n",
       "4  https://static.mycareersfuture.gov.sg/images/c...  199601303W   \n",
       "\n",
       "   employeeCount       positionLevels  \\\n",
       "0            NaN  [Fresh/entry level]   \n",
       "1            NaN  [Fresh/entry level]   \n",
       "2            NaN  [Fresh/entry level]   \n",
       "3            NaN  [Fresh/entry level]   \n",
       "4            NaN  [Fresh/entry level]   \n",
       "\n",
       "                                              skills  \\\n",
       "0  [Microsoft PowerPoint, Microsoft Office, Micro...   \n",
       "1  [Tape, Television, Microsoft Excel, Advertisin...   \n",
       "2  [Market Research, Ability to Multitask, Manage...   \n",
       "3  [Recipes, Lifestyle, Ingredients, Food Safety,...   \n",
       "4  [Microsoft Office, Microsoft Excel, Handle cal...   \n",
       "\n",
       "                                     employmentTypes   status  \\\n",
       "0  [Contract, Flexi-work, Freelance, Full Time, I...     Open   \n",
       "1                             [Permanent, Full Time]  Re-open   \n",
       "2                             [Permanent, Full Time]     Open   \n",
       "3                             [Permanent, Full Time]  Re-open   \n",
       "4        [Contract, Part Time, Permanent, Full Time]     Open   \n",
       "\n",
       "                  updatedAt         jobPostId  \\\n",
       "0  2023-10-26T10:14:11.000Z  MCF-2023-0817909   \n",
       "1  2023-10-16T12:53:17.000Z  MCF-2023-0693756   \n",
       "2  2023-10-11T14:26:08.000Z  MCF-2023-0761746   \n",
       "3  2023-10-17T10:09:50.000Z  MCF-2023-0653055   \n",
       "4  2023-10-21T18:40:52.000Z  MCF-2023-0804957   \n",
       "\n",
       "                                               title  salary_min  salary_max  \\\n",
       "0        Tuition Coordinator - Admin Support & Sales        3700        2500   \n",
       "1                                  Auction Assistant        2263        1518   \n",
       "2                                      Event Planner        3200        3100   \n",
       "3                                  Kitchen Assistant        2700        1800   \n",
       "4  Call Centre Support Officer / Customer Service...        2500        1500   \n",
       "\n",
       "  salary_type                                        description  \n",
       "0     Monthly  Find Out Even More At: https://tinyurl.com/min...  \n",
       "1     Monthly  Job Description:\\n\\nYour scope requires you to...  \n",
       "2     Monthly  The Event Planner (Conference Producer) is cri...  \n",
       "3     Monthly  Responsibilities\\n\\nEnsure all food and other ...  \n",
       "4     Monthly  Job Description:\\n\\nTo receive and make inboun...  "
      ]
     },
     "execution_count": 17,
     "metadata": {},
     "output_type": "execute_result"
    }
   ],
   "source": [
    "file_path = '../talenttrove/data/jobs/mycareersfuture_with_descriptions_cleaned.json'\n",
    "with open(file_path, 'r') as file:\n",
    "    df = pd.read_json(file, orient='records')\n",
    "\n",
    "df.head()"
   ]
  },
  {
   "cell_type": "code",
   "execution_count": 27,
   "metadata": {},
   "outputs": [],
   "source": [
    "documents = []\n",
    "metadatas = []\n",
    "ids = []\n",
    "\n",
    "for index, row in df.iterrows():\n",
    "    company_name = row['company_name']\n",
    "    uen = row['uen']\n",
    "    job_post_id = row['jobPostId']\n",
    "\n",
    "    documents.append(row['description'])\n",
    "    metadatas.append({'company_name': company_name, 'uen': uen, 'job_post_id': job_post_id})\n",
    "    ids.append(str(index))"
   ]
  },
  {
   "cell_type": "markdown",
   "metadata": {},
   "source": [
    "Creating the a ChromaDB vector database, and a collection for the MyCareerFuture JDs\n"
   ]
  },
  {
   "cell_type": "code",
   "execution_count": 2,
   "metadata": {},
   "outputs": [],
   "source": [
    "import chromadb\n",
    "from chromadb.utils import embedding_functions\n",
    "\n",
    "chroma_client = chromadb.PersistentClient(path=\"jd_vectordb\")"
   ]
  },
  {
   "cell_type": "code",
   "execution_count": 3,
   "metadata": {},
   "outputs": [],
   "source": [
    "collection = chroma_client.get_or_create_collection(name=\"mycareersfuture_jd\")"
   ]
  },
  {
   "cell_type": "code",
   "execution_count": null,
   "metadata": {},
   "outputs": [],
   "source": [
    "batch_size = 500  # Adjust this value based on the maximum batch size allowed\n",
    "for i in range(0, len(documents), batch_size):\n",
    "    batch_documents = documents[i:i+batch_size]\n",
    "    batch_metadatas = metadatas[i:i+batch_size]\n",
    "    batch_ids = ids[i:i+batch_size]\n",
    "\n",
    "    # Ensure that the order of documents, metadatas, and ids is maintained within each batch\n",
    "    assert len(batch_documents) == len(batch_metadatas) == len(batch_ids)\n",
    "\n",
    "    # Add the batch to the collection\n",
    "    collection.add(\n",
    "        documents=batch_documents,\n",
    "        metadatas=batch_metadatas,\n",
    "        ids=batch_ids\n",
    "    )"
   ]
  },
  {
   "cell_type": "code",
   "execution_count": 4,
   "metadata": {},
   "outputs": [
    {
     "data": {
      "text/plain": [
       "'We are seeking a results-oriented and experienced Real Estate Agent to join our team. As a Real Estate Agent, you will be responsible for residential and commercial property sales, exceeding sales targets, and providing exceptional customer service. You will utilize your expertise in market analysis, property marketing, and negotiation to guide clients through real estate transactions.\\n\\nJob Responsibilities:\\n- Exceed annual sales targets by utilizing your market knowledge and expertise in property valuation and neighborhood trends.\\n- Conduct detailed market analysis to determine optimal pricing strategies for listings, resulting in reduced time on market.\\n- Lead marketing efforts by creating high-quality listing presentations, virtual tours, and social media campaigns.\\n- Successfully negotiate contracts, resolve issues, and facilitate smooth transactions between buyers and sellers.\\n- Build and maintain strong client relationships through buyer/seller consultations, needs analysis, and effective communication.\\n- Coordinate property assessments, inspections, and appraisals to ensure accurate valuations and legal compliance.\\n- Utilize technology such as MLS, CRM systems, and marketing tools to enhance your productivity and efficiency.\\n- Network and engage in community involvement to generate leads and expand your referral network.\\n- Provide creative solutions and conduct market analysis to solve problems and meet client needs.\\n\\nRequirements:\\n- Minimum of 5 years of experience as a Real Estate Agent, with a proven track record of exceeding sales targets.\\n- Strong market knowledge, including local market trends, property valuation, and neighborhood expertise.\\n- Expertise in property marketing, including listing presentations, advertising, and virtual tours.\\n- Excellent client relationship management skills, including buyer/seller consultation, needs analysis, and effective communication.\\n- Proficient in negotiation, contract presentation, and conflict resolution.\\n- Thorough understanding of real estate laws, contracts, and disclosures.\\n- Experience in coordinating property assessments, inspections, and appraisals.\\n- Proficiency in technology, including MLS, CRM systems, marketing tools, and social media.\\n- Strong networking skills, including building referral networks and community involvement.\\n- Ability to provide creative solutions and conduct market analysis to meet client needs.\\n\\nIf you are a motivated and results-oriented Real Estate Agent with a proven track record of success, we would love to hear from you. Apply now to join our team and take your real estate career to the next level.'"
      ]
     },
     "execution_count": 4,
     "metadata": {},
     "output_type": "execute_result"
    }
   ],
   "source": [
    "import pickle\n",
    "with open('generated_jd_test.pkl', 'rb') as file:\n",
    "    sample_text = pickle.load(file)\n",
    "\n",
    "sample_text"
   ]
  },
  {
   "cell_type": "code",
   "execution_count": 25,
   "metadata": {},
   "outputs": [
    {
     "data": {
      "text/plain": [
       "{'ids': [['1820']],\n",
       " 'distances': [[0.7106396555900574]],\n",
       " 'metadatas': [[{'company_name': 'BIZSAVER PTE. LTD.',\n",
       "    'job_post_id': 'MCF-2023-0813023',\n",
       "    'uen': '201621245M'}]],\n",
       " 'embeddings': None,\n",
       " 'documents': [[\"As a Mortgage and Real Estate Specialist, you will be responsible for the growth of BizSaver's Mortgage and Real Estate business while providing financing solutions to meet the needs of our clients.\\n\\nYou will assigned leads and properties to market, negotiate and close. Training will be provided to improve your professional knowledge and efficiency.\\n\\nYou will identify and maximise sales opportunities, proactively build and manage long-term customer relationships with an emphasis on excellent, ethical, authentic and reliable service.\\n\\nYou will be provided opportunities to network for deeper engagement with our business partners, including Lawyers, Bankers and other complementing partners. \\n\\nApart from exceeding BizSaver and your personal targets, you will work closely as a reliable team player and take charge of your own time planning sales visits and presentations to potential customers.\\n\\nThis role encompasses engagement via cold calling and texting with potential business partners. Progressively you will established your sales network through regular contact with your referral sources. A strong emphasis is placed on sales’ integrity and ability to follow the necessary procedures and policies.\\n\\nWith an emphasis on accurately profiling customers' needs, you will actively promote quality and reliable services and solutions, to customers through alliance and referral by partners, agents, lawyers and developers. \\n\\nYou will work independently and take charge of your own time planning sales visits and presentations to potential customers and progressively build referral base of your very own through regular contact with your referral sources.\\n\\nYou must have a positive working attitude, good customer service skills and a high degree of initiative, and should preferably have a degree or diploma with sales experience in the banking and financial services industry.\\n\\nYou must be driven and able to work well under pressure to meet the sales targets. \\n\\nFresh graduates are highly welcomed. Join us, if you would like to kickstart your first step in Commercial and Consumer Real Estate!\"]]}"
      ]
     },
     "execution_count": 25,
     "metadata": {},
     "output_type": "execute_result"
    }
   ],
   "source": [
    "results = collection.query(\n",
    "    query_texts=[sample_text],\n",
    "    n_results=1,\n",
    "    include=['documents', 'distances', 'metadatas']\n",
    ")\n",
    "\n",
    "results"
   ]
  },
  {
   "cell_type": "code",
   "execution_count": 27,
   "metadata": {},
   "outputs": [
    {
     "data": {
      "text/plain": [
       "\"As a Mortgage and Real Estate Specialist, you will be responsible for the growth of BizSaver's Mortgage and Real Estate business while providing financing solutions to meet the needs of our clients.\\n\\nYou will assigned leads and properties to market, negotiate and close. Training will be provided to improve your professional knowledge and efficiency.\\n\\nYou will identify and maximise sales opportunities, proactively build and manage long-term customer relationships with an emphasis on excellent, ethical, authentic and reliable service.\\n\\nYou will be provided opportunities to network for deeper engagement with our business partners, including Lawyers, Bankers and other complementing partners. \\n\\nApart from exceeding BizSaver and your personal targets, you will work closely as a reliable team player and take charge of your own time planning sales visits and presentations to potential customers.\\n\\nThis role encompasses engagement via cold calling and texting with potential business partners. Progressively you will established your sales network through regular contact with your referral sources. A strong emphasis is placed on sales’ integrity and ability to follow the necessary procedures and policies.\\n\\nWith an emphasis on accurately profiling customers' needs, you will actively promote quality and reliable services and solutions, to customers through alliance and referral by partners, agents, lawyers and developers. \\n\\nYou will work independently and take charge of your own time planning sales visits and presentations to potential customers and progressively build referral base of your very own through regular contact with your referral sources.\\n\\nYou must have a positive working attitude, good customer service skills and a high degree of initiative, and should preferably have a degree or diploma with sales experience in the banking and financial services industry.\\n\\nYou must be driven and able to work well under pressure to meet the sales targets. \\n\\nFresh graduates are highly welcomed. Join us, if you would like to kickstart your first step in Commercial and Consumer Real Estate!\""
      ]
     },
     "execution_count": 27,
     "metadata": {},
     "output_type": "execute_result"
    }
   ],
   "source": [
    "# Most similar result\n",
    "most_similar_jd = results['documents'][0][0]\n",
    "most_similar_jd"
   ]
  },
  {
   "cell_type": "markdown",
   "metadata": {},
   "source": [
    "Creating collection for generated JDs, and the corresponding MyCareersFuture JD"
   ]
  },
  {
   "cell_type": "code",
   "execution_count": 29,
   "metadata": {},
   "outputs": [],
   "source": [
    "collection2 = chroma_client.get_or_create_collection(name=\"generated_jd\")\n",
    "\n",
    "documents2 = []\n",
    "metadatas2 = []\n",
    "ids2 = []\n",
    "idx = 0\n",
    "\n",
    "documents2.append(sample_text)\n",
    "metadatas2.append({'most_similar_jd': most_similar_jd})\n",
    "ids2.append(str(idx))\n",
    "\n",
    "collection2.add(\n",
    "        documents=documents2,\n",
    "        metadatas=metadatas2,\n",
    "        ids=ids2\n",
    "    )\n",
    "\n"
   ]
  },
  {
   "cell_type": "code",
   "execution_count": 30,
   "metadata": {},
   "outputs": [
    {
     "data": {
      "text/plain": [
       "{'ids': ['0'],\n",
       " 'embeddings': None,\n",
       " 'metadatas': [{'most_similar_jd': \"As a Mortgage and Real Estate Specialist, you will be responsible for the growth of BizSaver's Mortgage and Real Estate business while providing financing solutions to meet the needs of our clients.\\n\\nYou will assigned leads and properties to market, negotiate and close. Training will be provided to improve your professional knowledge and efficiency.\\n\\nYou will identify and maximise sales opportunities, proactively build and manage long-term customer relationships with an emphasis on excellent, ethical, authentic and reliable service.\\n\\nYou will be provided opportunities to network for deeper engagement with our business partners, including Lawyers, Bankers and other complementing partners. \\n\\nApart from exceeding BizSaver and your personal targets, you will work closely as a reliable team player and take charge of your own time planning sales visits and presentations to potential customers.\\n\\nThis role encompasses engagement via cold calling and texting with potential business partners. Progressively you will established your sales network through regular contact with your referral sources. A strong emphasis is placed on sales’ integrity and ability to follow the necessary procedures and policies.\\n\\nWith an emphasis on accurately profiling customers' needs, you will actively promote quality and reliable services and solutions, to customers through alliance and referral by partners, agents, lawyers and developers. \\n\\nYou will work independently and take charge of your own time planning sales visits and presentations to potential customers and progressively build referral base of your very own through regular contact with your referral sources.\\n\\nYou must have a positive working attitude, good customer service skills and a high degree of initiative, and should preferably have a degree or diploma with sales experience in the banking and financial services industry.\\n\\nYou must be driven and able to work well under pressure to meet the sales targets. \\n\\nFresh graduates are highly welcomed. Join us, if you would like to kickstart your first step in Commercial and Consumer Real Estate!\"}],\n",
       " 'documents': ['We are seeking a results-oriented and experienced Real Estate Agent to join our team. As a Real Estate Agent, you will be responsible for residential and commercial property sales, exceeding sales targets, and providing exceptional customer service. You will utilize your expertise in market analysis, property marketing, and negotiation to guide clients through real estate transactions.\\n\\nJob Responsibilities:\\n- Exceed annual sales targets by utilizing your market knowledge and expertise in property valuation and neighborhood trends.\\n- Conduct detailed market analysis to determine optimal pricing strategies for listings, resulting in reduced time on market.\\n- Lead marketing efforts by creating high-quality listing presentations, virtual tours, and social media campaigns.\\n- Successfully negotiate contracts, resolve issues, and facilitate smooth transactions between buyers and sellers.\\n- Build and maintain strong client relationships through buyer/seller consultations, needs analysis, and effective communication.\\n- Coordinate property assessments, inspections, and appraisals to ensure accurate valuations and legal compliance.\\n- Utilize technology such as MLS, CRM systems, and marketing tools to enhance your productivity and efficiency.\\n- Network and engage in community involvement to generate leads and expand your referral network.\\n- Provide creative solutions and conduct market analysis to solve problems and meet client needs.\\n\\nRequirements:\\n- Minimum of 5 years of experience as a Real Estate Agent, with a proven track record of exceeding sales targets.\\n- Strong market knowledge, including local market trends, property valuation, and neighborhood expertise.\\n- Expertise in property marketing, including listing presentations, advertising, and virtual tours.\\n- Excellent client relationship management skills, including buyer/seller consultation, needs analysis, and effective communication.\\n- Proficient in negotiation, contract presentation, and conflict resolution.\\n- Thorough understanding of real estate laws, contracts, and disclosures.\\n- Experience in coordinating property assessments, inspections, and appraisals.\\n- Proficiency in technology, including MLS, CRM systems, marketing tools, and social media.\\n- Strong networking skills, including building referral networks and community involvement.\\n- Ability to provide creative solutions and conduct market analysis to meet client needs.\\n\\nIf you are a motivated and results-oriented Real Estate Agent with a proven track record of success, we would love to hear from you. Apply now to join our team and take your real estate career to the next level.']}"
      ]
     },
     "execution_count": 30,
     "metadata": {},
     "output_type": "execute_result"
    }
   ],
   "source": [
    "collection2.get(idx)"
   ]
  },
  {
   "cell_type": "code",
   "execution_count": 34,
   "metadata": {},
   "outputs": [
    {
     "data": {
      "text/plain": [
       "{'ids': [['1820']],\n",
       " 'distances': [[0.7106396555900574]],\n",
       " 'metadatas': [[{'company_name': 'BIZSAVER PTE. LTD.',\n",
       "    'job_post_id': 'MCF-2023-0813023',\n",
       "    'uen': '201621245M'}]],\n",
       " 'embeddings': None,\n",
       " 'documents': [[\"As a Mortgage and Real Estate Specialist, you will be responsible for the growth of BizSaver's Mortgage and Real Estate business while providing financing solutions to meet the needs of our clients.\\n\\nYou will assigned leads and properties to market, negotiate and close. Training will be provided to improve your professional knowledge and efficiency.\\n\\nYou will identify and maximise sales opportunities, proactively build and manage long-term customer relationships with an emphasis on excellent, ethical, authentic and reliable service.\\n\\nYou will be provided opportunities to network for deeper engagement with our business partners, including Lawyers, Bankers and other complementing partners. \\n\\nApart from exceeding BizSaver and your personal targets, you will work closely as a reliable team player and take charge of your own time planning sales visits and presentations to potential customers.\\n\\nThis role encompasses engagement via cold calling and texting with potential business partners. Progressively you will established your sales network through regular contact with your referral sources. A strong emphasis is placed on sales’ integrity and ability to follow the necessary procedures and policies.\\n\\nWith an emphasis on accurately profiling customers' needs, you will actively promote quality and reliable services and solutions, to customers through alliance and referral by partners, agents, lawyers and developers. \\n\\nYou will work independently and take charge of your own time planning sales visits and presentations to potential customers and progressively build referral base of your very own through regular contact with your referral sources.\\n\\nYou must have a positive working attitude, good customer service skills and a high degree of initiative, and should preferably have a degree or diploma with sales experience in the banking and financial services industry.\\n\\nYou must be driven and able to work well under pressure to meet the sales targets. \\n\\nFresh graduates are highly welcomed. Join us, if you would like to kickstart your first step in Commercial and Consumer Real Estate!\"]]}"
      ]
     },
     "execution_count": 34,
     "metadata": {},
     "output_type": "execute_result"
    }
   ],
   "source": [
    "# Test: Querying a collection of a database using an item from another collection of the database\n",
    "results2 = collection.query(\n",
    "    query_texts=collection2.get(idx)['documents'],\n",
    "    n_results=1,\n",
    "    include=['documents', 'distances', 'metadatas']\n",
    ")\n",
    "\n",
    "results2 # Results are the same as earlier, meaning the implementation of the generated JD collection is correct"
   ]
  },
  {
   "cell_type": "code",
   "execution_count": null,
   "metadata": {},
   "outputs": [],
   "source": []
  }
 ],
 "metadata": {
  "kernelspec": {
   "display_name": "talenttrove-nJWcS1ga-py3.11",
   "language": "python",
   "name": "python3"
  },
  "language_info": {
   "codemirror_mode": {
    "name": "ipython",
    "version": 3
   },
   "file_extension": ".py",
   "mimetype": "text/x-python",
   "name": "python",
   "nbconvert_exporter": "python",
   "pygments_lexer": "ipython3",
   "version": "3.11.1"
  }
 },
 "nbformat": 4,
 "nbformat_minor": 2
}
